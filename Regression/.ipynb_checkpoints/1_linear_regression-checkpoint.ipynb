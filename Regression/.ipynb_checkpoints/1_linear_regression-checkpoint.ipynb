{
 "cells": [
  {
   "cell_type": "markdown",
   "id": "06211b11-21c6-453f-a5a6-6da7fde44dd2",
   "metadata": {},
   "source": [
    "## Imports"
   ]
  },
  {
   "cell_type": "code",
   "execution_count": 64,
   "id": "88bb4db3-2b28-4cd6-8a7d-7f98c340eafb",
   "metadata": {},
   "outputs": [],
   "source": [
    "import pandas as pd\n",
    "import matplotlib.pyplot as plt\n",
    "import seaborn as sns\n",
    "from sklearn.model_selection import train_test_split\n",
    "from sklearn.metrics import r2_score, accuracy_score"
   ]
  },
  {
   "cell_type": "markdown",
   "id": "f9359644-be4b-4ab6-b9c3-3c0887f3bd8e",
   "metadata": {},
   "source": [
    "## Linear Regression"
   ]
  },
  {
   "cell_type": "markdown",
   "id": "d2e17249-8196-449a-8c71-ab7715c94ad8",
   "metadata": {},
   "source": [
    "### What is linear regression ?"
   ]
  },
  {
   "cell_type": "markdown",
   "id": "5a218121-4076-47bf-bef7-79e15f85164b",
   "metadata": {},
   "source": [
    "It is the mathematical method of drawing a best fit line between two features and perform predictions by plotting them on the line"
   ]
  },
  {
   "cell_type": "markdown",
   "id": "37b0ddf1-789d-40ce-8a42-bd179bf9d63a",
   "metadata": {},
   "source": [
    "### How can we determine the best fit line ?"
   ]
  },
  {
   "cell_type": "markdown",
   "id": "b662e632-6b68-48e1-9979-8a5a77db3007",
   "metadata": {},
   "source": [
    "The best fit line is determined by the line that has less value for sum of squared residuals\n",
    "1. The reason for squaring the residuals(difference between the actual point and the point on the line) is to avoid cancelling the postive values with the negative values\n",
    "2. The line with least sum of square of residulas is determined with the help of plotting a graph based on each rotation\n",
    "3. The slope will be determined by the optimal line"
   ]
  },
  {
   "cell_type": "markdown",
   "id": "92f0b4bd-696e-4317-85bf-2d47449b5eb9",
   "metadata": {},
   "source": [
    "![image](data:image/jpeg;base64,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)"
   ]
  },
  {
   "cell_type": "markdown",
   "id": "edeadc9a-46f6-47a1-9f50-95add89963e4",
   "metadata": {},
   "source": [
    "### Steps to find the best fit line"
   ]
  },
  {
   "cell_type": "markdown",
   "id": "79d5f992-848b-409f-81f5-c94a2b1525eb",
   "metadata": {},
   "source": [
    "![image](https://miro.medium.com/v2/resize:fit:1400/1*EJhi1ERW-Ay6uTA_AhxlNQ.png)"
   ]
  },
  {
   "cell_type": "markdown",
   "id": "58210a39-d98e-48a0-91ba-f917c858a10f",
   "metadata": {},
   "source": [
    "1. Draw a horizontal line on y-axis at the mean values of y\n",
    "2. Calculate the sum of squared distances\n",
    "3. Rotate the line a little bit and calculate the sum of squared residuals\n",
    "4. Keep on rotating the line until you get good number of sum of squared residuals\n",
    "5. Plot the outcomes in the form of graph (X - axis line rotation | Y - axis the values of sum of squared residulas)"
   ]
  },
  {
   "cell_type": "markdown",
   "id": "d4d24bc0-a20f-4050-b046-823867758781",
   "metadata": {},
   "source": [
    "### Outcome of the process"
   ]
  },
  {
   "cell_type": "markdown",
   "id": "c37717b3-a720-4a2b-9931-7ec9c6fae2d5",
   "metadata": {},
   "source": [
    "We can be able to find the slope and the intercept of the line(best fit line)\n",
    "1. The below example is the python implementation\n",
    "2. _coeff is known as slope(One slope per feature)\n",
    "3. intercept will give us the y-intercept"
   ]
  },
  {
   "cell_type": "code",
   "execution_count": 2,
   "id": "9575172b-8742-4216-b0a8-d2ab5a2d72a8",
   "metadata": {},
   "outputs": [
    {
     "name": "stdout",
     "output_type": "stream",
     "text": [
      "[[1 1]\n",
      " [1 2]\n",
      " [2 2]\n",
      " [2 3]] [ 6  8  9 11]\n"
     ]
    }
   ],
   "source": [
    "import numpy as np\n",
    "from sklearn.linear_model import LinearRegression\n",
    "X = np.array([[1, 1], [1, 2], [2, 2], [2, 3]])\n",
    "# y = 1 * x_0 + 2 * x_1 + 3\n",
    "y = np.dot(X, np.array([1, 2])) + 3\n",
    "print(X, y)"
   ]
  },
  {
   "cell_type": "code",
   "execution_count": 12,
   "id": "d3143265-577f-46e0-b9bc-dc4db70ad451",
   "metadata": {},
   "outputs": [
    {
     "name": "stdout",
     "output_type": "stream",
     "text": [
      "R2 Score 1.0\n",
      "Coefficients [1. 2.]\n",
      "Intercept 3.0000000000000018\n",
      "Predict values [16.]\n"
     ]
    }
   ],
   "source": [
    "reg = LinearRegression().fit(X, y)\n",
    "print(\"R2 Score\", reg.score(X, y))\n",
    "print(\"Coefficients\",reg.coef_)\n",
    "print(\"Intercept\",reg.intercept_)\n",
    "print(\"Predict values\",reg.predict(np.array([[3, 5]])))"
   ]
  },
  {
   "cell_type": "markdown",
   "id": "bb8e6f1d-1833-491b-99ef-9ce9510a6bef",
   "metadata": {},
   "source": [
    "### Regular R"
   ]
  },
  {
   "cell_type": "markdown",
   "id": "cc8a2292-a8aa-4d79-8a73-43ff7c1906b5",
   "metadata": {},
   "source": [
    "1. The value of regular R ranges from -1 to 1 and they are correlated(either postively or negatively)\n",
    "2. Values to 0 are lame"
   ]
  },
  {
   "cell_type": "markdown",
   "id": "317977fc-0217-4c99-8b91-dafe51c523f1",
   "metadata": {},
   "source": [
    "### Why do we need R2 when R(Regular R) is in place ?"
   ]
  },
  {
   "cell_type": "markdown",
   "id": "71ae64dd-e66a-4726-8bde-c21f0d5b0c69",
   "metadata": {},
   "source": [
    "1. It is very similar to R\n",
    "2. It will be very easy to interpret\n",
    "3. Like, its not obvious to say R value 0.7 is twice as good as R value 0.5\n",
    "4. However, we can say R2 0.7 is 1.4 as good as R2 0.5\n",
    "5. It is easy and intuitive to calculate"
   ]
  },
  {
   "cell_type": "markdown",
   "id": "53a808c8-3f78-4e10-98bc-a2d69c328819",
   "metadata": {},
   "source": [
    "### Interpret R2 Value"
   ]
  },
  {
   "cell_type": "markdown",
   "id": "3055bfc7-0831-4e7e-8ba5-fe3080891750",
   "metadata": {},
   "source": [
    "1. Usually when someone asks about the weight of the mouse in average, we calculate the average and tell them\n",
    "2. Instead, there is a better way to the weight of the mouse even with better accuracy which is R2\n",
    "3. With the help of R2 value, we can say how much it is better from the mean\n",
    "4. The value of R2 is between 0 and 1 because it divides the sum of squares of variation in mean - the sum of squares of variation in line by the sum of squares of variation in mean\n",
    "5. If the value of R2 is 0.81(81%), there is 81% reduction in variation from the value calculated through the variation in mean\n",
    "6. In other words, the size/weight relationship accounts for 81% of variation\n",
    "7. This means the most of the variation of the data is explained by size/weight relationship"
   ]
  },
  {
   "cell_type": "markdown",
   "id": "53a5f913-dcea-4591-ba03-d4afbaf9de17",
   "metadata": {},
   "source": [
    "### Calculate R2 (R-Square)"
   ]
  },
  {
   "cell_type": "markdown",
   "id": "c4808370-c042-444e-9db3-3574c5bdc7c8",
   "metadata": {},
   "source": [
    "1. R2 is the percentage of the variation explained by the two variable/features\n",
    "2. The relationship between R and R2 is that its just the square of R\n",
    "3. This is our first step to determine how good the guess(prediction) be\n",
    "4. It is the metric for correlating the features\n",
    "5. The R2 value is calculated with the help of average sum of squares of variance of line and average sum of squares of variance around the mean\n",
    "6. The value of R2 is from 0 to 1"
   ]
  },
  {
   "cell_type": "markdown",
   "id": "ed08a1bd-6c3a-46fb-9957-eb6f0df43531",
   "metadata": {},
   "source": [
    "![R2 Formula](data:image/jpeg;base64,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)"
   ]
  },
  {
   "cell_type": "markdown",
   "id": "ed03268d-3864-4d7d-b2df-a2054d4674e0",
   "metadata": {},
   "source": [
    "Taking Mouse example from [Statquest](https://www.youtube.com/watch?v=nk2CQITm_eo&list=PLblh5JKOoLUIzaEkCLIUxQFjPIlapw8nU&index=2&t=240s)\n",
    "\n",
    "1. The R2 value 0.6 is nothing but 60%\n",
    "2. In other words, we can say that the mouse weight explains 60% of the variance in mouse size\n",
    "3. In another words, we can say that there is 60% reduction in variance when we take mouse weight into account"
   ]
  },
  {
   "cell_type": "markdown",
   "id": "490d6365-97a1-411a-8be2-3c0db83f502c",
   "metadata": {},
   "source": [
    "### Values of R"
   ]
  },
  {
   "cell_type": "markdown",
   "id": "a95c666c-63c7-4b27-837e-285537e6b457",
   "metadata": {},
   "source": [
    "1. The more the parameters(features), the higher the R value\n",
    "2. For example, the equation y = 0.3 + mouse_size + flip_a_coin + favorite_color + astrologer_sign will never make the SS(fit) worse than the equation with lower parameters i.e. y = 0.3 + mouse_size\n",
    "3. If the feature's SS(fit) does not make smaller, least squares will ignore it by making the parameter 0 i.e y = 0.3 + 5.6 mouse_weight + 0 * tail_length\n",
    "4. As a result, equations with more parameters will never make SS(fit) worse than equations with less parameters\n",
    "5. However, due to random chance, there may be some probability that small mice in the dataset might get heads more frequently than large mice\n",
    "6. If this happens, we will get smaller SS(fit) and better R2\n",
    "7. In this kind of scenario, we calculate adjusted R2 where we limit the number of parameters"
   ]
  },
  {
   "cell_type": "markdown",
   "id": "325be972-9e1b-4ef3-8df4-110f0fa3fb77",
   "metadata": {},
   "source": [
    "### Adjusted R2"
   ]
  },
  {
   "cell_type": "markdown",
   "id": "407b597b-5476-4c34-9afb-f687969a3c58",
   "metadata": {},
   "source": [
    "1. The adjusted R2 helps us limit the ways it calculates the R2 with the help of number of parameters\n",
    "2. In some cases, the R2 gives 100% but that's not statistically significant because the SS on two points no matter the line of the direction will give us 100% confidence but it is not\n",
    "3. Hence we need p-value\n",
    "4. The p-value from R2 comes from something called F\n",
    "5. F = (Variation in Mouse size by taking mouse weight into account / Variation in Mouse size without taking mouse weight into account)"
   ]
  },
  {
   "cell_type": "markdown",
   "id": "e74a4ea1-4d18-462d-afe0-1d40baf76db7",
   "metadata": {},
   "source": [
    "![Adjusted R2 Formula](https://encrypted-tbn0.gstatic.com/images?q=tbn:ANd9GcQb5ArYtT0W44E-lsm4wdOHNKYBakF7Hy9LUg&s)"
   ]
  },
  {
   "cell_type": "markdown",
   "id": "981d0dbc-2108-47c2-85f9-881fd88a9e8c",
   "metadata": {},
   "source": [
    "### Python Implementation for R2"
   ]
  },
  {
   "cell_type": "code",
   "execution_count": 4,
   "id": "a5478e94-4c5c-4434-84fb-bc66a33cf546",
   "metadata": {},
   "outputs": [],
   "source": [
    "hnw = pd.read_csv(\"datasets/height_weight.csv\")"
   ]
  },
  {
   "cell_type": "code",
   "execution_count": 5,
   "id": "0927d93b-3398-4571-a859-ffbae667e174",
   "metadata": {},
   "outputs": [
    {
     "data": {
      "text/html": [
       "<div>\n",
       "<style scoped>\n",
       "    .dataframe tbody tr th:only-of-type {\n",
       "        vertical-align: middle;\n",
       "    }\n",
       "\n",
       "    .dataframe tbody tr th {\n",
       "        vertical-align: top;\n",
       "    }\n",
       "\n",
       "    .dataframe thead th {\n",
       "        text-align: right;\n",
       "    }\n",
       "</style>\n",
       "<table border=\"1\" class=\"dataframe\">\n",
       "  <thead>\n",
       "    <tr style=\"text-align: right;\">\n",
       "      <th></th>\n",
       "      <th>Index</th>\n",
       "      <th>Height(Inches)</th>\n",
       "      <th>Weight(Pounds)</th>\n",
       "    </tr>\n",
       "  </thead>\n",
       "  <tbody>\n",
       "    <tr>\n",
       "      <th>0</th>\n",
       "      <td>1</td>\n",
       "      <td>65.78331</td>\n",
       "      <td>112.9925</td>\n",
       "    </tr>\n",
       "    <tr>\n",
       "      <th>1</th>\n",
       "      <td>2</td>\n",
       "      <td>71.51521</td>\n",
       "      <td>136.4873</td>\n",
       "    </tr>\n",
       "    <tr>\n",
       "      <th>2</th>\n",
       "      <td>3</td>\n",
       "      <td>69.39874</td>\n",
       "      <td>153.0269</td>\n",
       "    </tr>\n",
       "    <tr>\n",
       "      <th>3</th>\n",
       "      <td>4</td>\n",
       "      <td>68.21660</td>\n",
       "      <td>142.3354</td>\n",
       "    </tr>\n",
       "    <tr>\n",
       "      <th>4</th>\n",
       "      <td>5</td>\n",
       "      <td>67.78781</td>\n",
       "      <td>144.2971</td>\n",
       "    </tr>\n",
       "  </tbody>\n",
       "</table>\n",
       "</div>"
      ],
      "text/plain": [
       "   Index  Height(Inches)  Weight(Pounds)\n",
       "0      1        65.78331        112.9925\n",
       "1      2        71.51521        136.4873\n",
       "2      3        69.39874        153.0269\n",
       "3      4        68.21660        142.3354\n",
       "4      5        67.78781        144.2971"
      ]
     },
     "execution_count": 5,
     "metadata": {},
     "output_type": "execute_result"
    }
   ],
   "source": [
    "hnw.head()"
   ]
  },
  {
   "cell_type": "code",
   "execution_count": 7,
   "id": "4d86075d-5122-4cb4-b1a1-30384a800eaa",
   "metadata": {},
   "outputs": [
    {
     "data": {
      "text/plain": [
       "<matplotlib.collections.PathCollection at 0x267c853f280>"
      ]
     },
     "execution_count": 7,
     "metadata": {},
     "output_type": "execute_result"
    },
    {
     "data": {
      "image/png": "[encoded data removed]",
      "text/plain": [
       "<Figure size 640x480 with 1 Axes>"
      ]
     },
     "metadata": {},
     "output_type": "display_data"
    }
   ],
   "source": [
    "plt.scatter(hnw[\"Height(Inches)\"], hnw[\"Weight(Pounds)\"])"
   ]
  },
  {
   "cell_type": "code",
   "execution_count": 50,
   "id": "37d2a577-88ca-469c-b234-a513d6f1d891",
   "metadata": {},
   "outputs": [],
   "source": [
    "hnw_reg = LinearRegression()\n",
    "X_train, Y_train, x_test, y_test = train_test_split(hnw[[\"Height(Inches)\"]], hnw[[\"Weight(Pounds)\"]])"
   ]
  },
  {
   "cell_type": "code",
   "execution_count": 42,
   "id": "93a4cb58-ed41-4e66-9534-76f130778f4e",
   "metadata": {},
   "outputs": [
    {
     "data": {
      "text/html": [
       "<div>\n",
       "<style scoped>\n",
       "    .dataframe tbody tr th:only-of-type {\n",
       "        vertical-align: middle;\n",
       "    }\n",
       "\n",
       "    .dataframe tbody tr th {\n",
       "        vertical-align: top;\n",
       "    }\n",
       "\n",
       "    .dataframe thead th {\n",
       "        text-align: right;\n",
       "    }\n",
       "</style>\n",
       "<table border=\"1\" class=\"dataframe\">\n",
       "  <thead>\n",
       "    <tr style=\"text-align: right;\">\n",
       "      <th></th>\n",
       "      <th>Height(Inches)</th>\n",
       "    </tr>\n",
       "  </thead>\n",
       "  <tbody>\n",
       "    <tr>\n",
       "      <th>1022</th>\n",
       "      <td>66.54306</td>\n",
       "    </tr>\n",
       "    <tr>\n",
       "      <th>12004</th>\n",
       "      <td>67.39237</td>\n",
       "    </tr>\n",
       "    <tr>\n",
       "      <th>644</th>\n",
       "      <td>66.13469</td>\n",
       "    </tr>\n",
       "    <tr>\n",
       "      <th>5694</th>\n",
       "      <td>68.20921</td>\n",
       "    </tr>\n",
       "    <tr>\n",
       "      <th>6502</th>\n",
       "      <td>67.02379</td>\n",
       "    </tr>\n",
       "    <tr>\n",
       "      <th>...</th>\n",
       "      <td>...</td>\n",
       "    </tr>\n",
       "    <tr>\n",
       "      <th>23028</th>\n",
       "      <td>67.81254</td>\n",
       "    </tr>\n",
       "    <tr>\n",
       "      <th>22251</th>\n",
       "      <td>68.15606</td>\n",
       "    </tr>\n",
       "    <tr>\n",
       "      <th>24148</th>\n",
       "      <td>67.96735</td>\n",
       "    </tr>\n",
       "    <tr>\n",
       "      <th>16339</th>\n",
       "      <td>70.55462</td>\n",
       "    </tr>\n",
       "    <tr>\n",
       "      <th>8624</th>\n",
       "      <td>66.70442</td>\n",
       "    </tr>\n",
       "  </tbody>\n",
       "</table>\n",
       "<p>6250 rows × 1 columns</p>\n",
       "</div>"
      ],
      "text/plain": [
       "       Height(Inches)\n",
       "1022         66.54306\n",
       "12004        67.39237\n",
       "644          66.13469\n",
       "5694         68.20921\n",
       "6502         67.02379\n",
       "...               ...\n",
       "23028        67.81254\n",
       "22251        68.15606\n",
       "24148        67.96735\n",
       "16339        70.55462\n",
       "8624         66.70442\n",
       "\n",
       "[6250 rows x 1 columns]"
      ]
     },
     "execution_count": 42,
     "metadata": {},
     "output_type": "execute_result"
    }
   ],
   "source": [
    "Y_train"
   ]
  },
  {
   "cell_type": "code",
   "execution_count": 51,
   "id": "efac1321-435a-4aef-9a19-deda6762c8c2",
   "metadata": {},
   "outputs": [
    {
     "data": {
      "text/html": [
       "<style>#sk-container-id-3 {\n",
       "  /* Definition of color scheme common for light and dark mode */\n",
       "  --sklearn-color-text: black;\n",
       "  --sklearn-color-line: gray;\n",
       "  /* Definition of color scheme for unfitted estimators */\n",
       "  --sklearn-color-unfitted-level-0: #fff5e6;\n",
       "  --sklearn-color-unfitted-level-1: #f6e4d2;\n",
       "  --sklearn-color-unfitted-level-2: #ffe0b3;\n",
       "  --sklearn-color-unfitted-level-3: chocolate;\n",
       "  /* Definition of color scheme for fitted estimators */\n",
       "  --sklearn-color-fitted-level-0: #f0f8ff;\n",
       "  --sklearn-color-fitted-level-1: #d4ebff;\n",
       "  --sklearn-color-fitted-level-2: #b3dbfd;\n",
       "  --sklearn-color-fitted-level-3: cornflowerblue;\n",
       "\n",
       "  /* Specific color for light theme */\n",
       "  --sklearn-color-text-on-default-background: var(--sg-text-color, var(--theme-code-foreground, var(--jp-content-font-color1, black)));\n",
       "  --sklearn-color-background: var(--sg-background-color, var(--theme-background, var(--jp-layout-color0, white)));\n",
       "  --sklearn-color-border-box: var(--sg-text-color, var(--theme-code-foreground, var(--jp-content-font-color1, black)));\n",
       "  --sklearn-color-icon: #696969;\n",
       "\n",
       "  @media (prefers-color-scheme: dark) {\n",
       "    /* Redefinition of color scheme for dark theme */\n",
       "    --sklearn-color-text-on-default-background: var(--sg-text-color, var(--theme-code-foreground, var(--jp-content-font-color1, white)));\n",
       "    --sklearn-color-background: var(--sg-background-color, var(--theme-background, var(--jp-layout-color0, #111)));\n",
       "    --sklearn-color-border-box: var(--sg-text-color, var(--theme-code-foreground, var(--jp-content-font-color1, white)));\n",
       "    --sklearn-color-icon: #878787;\n",
       "  }\n",
       "}\n",
       "\n",
       "#sk-container-id-3 {\n",
       "  color: var(--sklearn-color-text);\n",
       "}\n",
       "\n",
       "#sk-container-id-3 pre {\n",
       "  padding: 0;\n",
       "}\n",
       "\n",
       "#sk-container-id-3 input.sk-hidden--visually {\n",
       "  border: 0;\n",
       "  clip: rect(1px 1px 1px 1px);\n",
       "  clip: rect(1px, 1px, 1px, 1px);\n",
       "  height: 1px;\n",
       "  margin: -1px;\n",
       "  overflow: hidden;\n",
       "  padding: 0;\n",
       "  position: absolute;\n",
       "  width: 1px;\n",
       "}\n",
       "\n",
       "#sk-container-id-3 div.sk-dashed-wrapped {\n",
       "  border: 1px dashed var(--sklearn-color-line);\n",
       "  margin: 0 0.4em 0.5em 0.4em;\n",
       "  box-sizing: border-box;\n",
       "  padding-bottom: 0.4em;\n",
       "  background-color: var(--sklearn-color-background);\n",
       "}\n",
       "\n",
       "#sk-container-id-3 div.sk-container {\n",
       "  /* jupyter's `normalize.less` sets `[hidden] { display: none; }`\n",
       "     but bootstrap.min.css set `[hidden] { display: none !important; }`\n",
       "     so we also need the `!important` here to be able to override the\n",
       "     default hidden behavior on the sphinx rendered scikit-learn.org.\n",
       "     See: https://github.com/scikit-learn/scikit-learn/issues/21755 */\n",
       "  display: inline-block !important;\n",
       "  position: relative;\n",
       "}\n",
       "\n",
       "#sk-container-id-3 div.sk-text-repr-fallback {\n",
       "  display: none;\n",
       "}\n",
       "\n",
       "div.sk-parallel-item,\n",
       "div.sk-serial,\n",
       "div.sk-item {\n",
       "  /* draw centered vertical line to link estimators */\n",
       "  background-image: linear-gradient(var(--sklearn-color-text-on-default-background), var(--sklearn-color-text-on-default-background));\n",
       "  background-size: 2px 100%;\n",
       "  background-repeat: no-repeat;\n",
       "  background-position: center center;\n",
       "}\n",
       "\n",
       "/* Parallel-specific style estimator block */\n",
       "\n",
       "#sk-container-id-3 div.sk-parallel-item::after {\n",
       "  content: \"\";\n",
       "  width: 100%;\n",
       "  border-bottom: 2px solid var(--sklearn-color-text-on-default-background);\n",
       "  flex-grow: 1;\n",
       "}\n",
       "\n",
       "#sk-container-id-3 div.sk-parallel {\n",
       "  display: flex;\n",
       "  align-items: stretch;\n",
       "  justify-content: center;\n",
       "  background-color: var(--sklearn-color-background);\n",
       "  position: relative;\n",
       "}\n",
       "\n",
       "#sk-container-id-3 div.sk-parallel-item {\n",
       "  display: flex;\n",
       "  flex-direction: column;\n",
       "}\n",
       "\n",
       "#sk-container-id-3 div.sk-parallel-item:first-child::after {\n",
       "  align-self: flex-end;\n",
       "  width: 50%;\n",
       "}\n",
       "\n",
       "#sk-container-id-3 div.sk-parallel-item:last-child::after {\n",
       "  align-self: flex-start;\n",
       "  width: 50%;\n",
       "}\n",
       "\n",
       "#sk-container-id-3 div.sk-parallel-item:only-child::after {\n",
       "  width: 0;\n",
       "}\n",
       "\n",
       "/* Serial-specific style estimator block */\n",
       "\n",
       "#sk-container-id-3 div.sk-serial {\n",
       "  display: flex;\n",
       "  flex-direction: column;\n",
       "  align-items: center;\n",
       "  background-color: var(--sklearn-color-background);\n",
       "  padding-right: 1em;\n",
       "  padding-left: 1em;\n",
       "}\n",
       "\n",
       "\n",
       "/* Toggleable style: style used for estimator/Pipeline/ColumnTransformer box that is\n",
       "clickable and can be expanded/collapsed.\n",
       "- Pipeline and ColumnTransformer use this feature and define the default style\n",
       "- Estimators will overwrite some part of the style using the `sk-estimator` class\n",
       "*/\n",
       "\n",
       "/* Pipeline and ColumnTransformer style (default) */\n",
       "\n",
       "#sk-container-id-3 div.sk-toggleable {\n",
       "  /* Default theme specific background. It is overwritten whether we have a\n",
       "  specific estimator or a Pipeline/ColumnTransformer */\n",
       "  background-color: var(--sklearn-color-background);\n",
       "}\n",
       "\n",
       "/* Toggleable label */\n",
       "#sk-container-id-3 label.sk-toggleable__label {\n",
       "  cursor: pointer;\n",
       "  display: block;\n",
       "  width: 100%;\n",
       "  margin-bottom: 0;\n",
       "  padding: 0.5em;\n",
       "  box-sizing: border-box;\n",
       "  text-align: center;\n",
       "}\n",
       "\n",
       "#sk-container-id-3 label.sk-toggleable__label-arrow:before {\n",
       "  /* Arrow on the left of the label */\n",
       "  content: \"▸\";\n",
       "  float: left;\n",
       "  margin-right: 0.25em;\n",
       "  color: var(--sklearn-color-icon);\n",
       "}\n",
       "\n",
       "#sk-container-id-3 label.sk-toggleable__label-arrow:hover:before {\n",
       "  color: var(--sklearn-color-text);\n",
       "}\n",
       "\n",
       "/* Toggleable content - dropdown */\n",
       "\n",
       "#sk-container-id-3 div.sk-toggleable__content {\n",
       "  max-height: 0;\n",
       "  max-width: 0;\n",
       "  overflow: hidden;\n",
       "  text-align: left;\n",
       "  /* unfitted */\n",
       "  background-color: var(--sklearn-color-unfitted-level-0);\n",
       "}\n",
       "\n",
       "#sk-container-id-3 div.sk-toggleable__content.fitted {\n",
       "  /* fitted */\n",
       "  background-color: var(--sklearn-color-fitted-level-0);\n",
       "}\n",
       "\n",
       "#sk-container-id-3 div.sk-toggleable__content pre {\n",
       "  margin: 0.2em;\n",
       "  border-radius: 0.25em;\n",
       "  color: var(--sklearn-color-text);\n",
       "  /* unfitted */\n",
       "  background-color: var(--sklearn-color-unfitted-level-0);\n",
       "}\n",
       "\n",
       "#sk-container-id-3 div.sk-toggleable__content.fitted pre {\n",
       "  /* unfitted */\n",
       "  background-color: var(--sklearn-color-fitted-level-0);\n",
       "}\n",
       "\n",
       "#sk-container-id-3 input.sk-toggleable__control:checked~div.sk-toggleable__content {\n",
       "  /* Expand drop-down */\n",
       "  max-height: 200px;\n",
       "  max-width: 100%;\n",
       "  overflow: auto;\n",
       "}\n",
       "\n",
       "#sk-container-id-3 input.sk-toggleable__control:checked~label.sk-toggleable__label-arrow:before {\n",
       "  content: \"▾\";\n",
       "}\n",
       "\n",
       "/* Pipeline/ColumnTransformer-specific style */\n",
       "\n",
       "#sk-container-id-3 div.sk-label input.sk-toggleable__control:checked~label.sk-toggleable__label {\n",
       "  color: var(--sklearn-color-text);\n",
       "  background-color: var(--sklearn-color-unfitted-level-2);\n",
       "}\n",
       "\n",
       "#sk-container-id-3 div.sk-label.fitted input.sk-toggleable__control:checked~label.sk-toggleable__label {\n",
       "  background-color: var(--sklearn-color-fitted-level-2);\n",
       "}\n",
       "\n",
       "/* Estimator-specific style */\n",
       "\n",
       "/* Colorize estimator box */\n",
       "#sk-container-id-3 div.sk-estimator input.sk-toggleable__control:checked~label.sk-toggleable__label {\n",
       "  /* unfitted */\n",
       "  background-color: var(--sklearn-color-unfitted-level-2);\n",
       "}\n",
       "\n",
       "#sk-container-id-3 div.sk-estimator.fitted input.sk-toggleable__control:checked~label.sk-toggleable__label {\n",
       "  /* fitted */\n",
       "  background-color: var(--sklearn-color-fitted-level-2);\n",
       "}\n",
       "\n",
       "#sk-container-id-3 div.sk-label label.sk-toggleable__label,\n",
       "#sk-container-id-3 div.sk-label label {\n",
       "  /* The background is the default theme color */\n",
       "  color: var(--sklearn-color-text-on-default-background);\n",
       "}\n",
       "\n",
       "/* On hover, darken the color of the background */\n",
       "#sk-container-id-3 div.sk-label:hover label.sk-toggleable__label {\n",
       "  color: var(--sklearn-color-text);\n",
       "  background-color: var(--sklearn-color-unfitted-level-2);\n",
       "}\n",
       "\n",
       "/* Label box, darken color on hover, fitted */\n",
       "#sk-container-id-3 div.sk-label.fitted:hover label.sk-toggleable__label.fitted {\n",
       "  color: var(--sklearn-color-text);\n",
       "  background-color: var(--sklearn-color-fitted-level-2);\n",
       "}\n",
       "\n",
       "/* Estimator label */\n",
       "\n",
       "#sk-container-id-3 div.sk-label label {\n",
       "  font-family: monospace;\n",
       "  font-weight: bold;\n",
       "  display: inline-block;\n",
       "  line-height: 1.2em;\n",
       "}\n",
       "\n",
       "#sk-container-id-3 div.sk-label-container {\n",
       "  text-align: center;\n",
       "}\n",
       "\n",
       "/* Estimator-specific */\n",
       "#sk-container-id-3 div.sk-estimator {\n",
       "  font-family: monospace;\n",
       "  border: 1px dotted var(--sklearn-color-border-box);\n",
       "  border-radius: 0.25em;\n",
       "  box-sizing: border-box;\n",
       "  margin-bottom: 0.5em;\n",
       "  /* unfitted */\n",
       "  background-color: var(--sklearn-color-unfitted-level-0);\n",
       "}\n",
       "\n",
       "#sk-container-id-3 div.sk-estimator.fitted {\n",
       "  /* fitted */\n",
       "  background-color: var(--sklearn-color-fitted-level-0);\n",
       "}\n",
       "\n",
       "/* on hover */\n",
       "#sk-container-id-3 div.sk-estimator:hover {\n",
       "  /* unfitted */\n",
       "  background-color: var(--sklearn-color-unfitted-level-2);\n",
       "}\n",
       "\n",
       "#sk-container-id-3 div.sk-estimator.fitted:hover {\n",
       "  /* fitted */\n",
       "  background-color: var(--sklearn-color-fitted-level-2);\n",
       "}\n",
       "\n",
       "/* Specification for estimator info (e.g. \"i\" and \"?\") */\n",
       "\n",
       "/* Common style for \"i\" and \"?\" */\n",
       "\n",
       ".sk-estimator-doc-link,\n",
       "a:link.sk-estimator-doc-link,\n",
       "a:visited.sk-estimator-doc-link {\n",
       "  float: right;\n",
       "  font-size: smaller;\n",
       "  line-height: 1em;\n",
       "  font-family: monospace;\n",
       "  background-color: var(--sklearn-color-background);\n",
       "  border-radius: 1em;\n",
       "  height: 1em;\n",
       "  width: 1em;\n",
       "  text-decoration: none !important;\n",
       "  margin-left: 1ex;\n",
       "  /* unfitted */\n",
       "  border: var(--sklearn-color-unfitted-level-1) 1pt solid;\n",
       "  color: var(--sklearn-color-unfitted-level-1);\n",
       "}\n",
       "\n",
       ".sk-estimator-doc-link.fitted,\n",
       "a:link.sk-estimator-doc-link.fitted,\n",
       "a:visited.sk-estimator-doc-link.fitted {\n",
       "  /* fitted */\n",
       "  border: var(--sklearn-color-fitted-level-1) 1pt solid;\n",
       "  color: var(--sklearn-color-fitted-level-1);\n",
       "}\n",
       "\n",
       "/* On hover */\n",
       "div.sk-estimator:hover .sk-estimator-doc-link:hover,\n",
       ".sk-estimator-doc-link:hover,\n",
       "div.sk-label-container:hover .sk-estimator-doc-link:hover,\n",
       ".sk-estimator-doc-link:hover {\n",
       "  /* unfitted */\n",
       "  background-color: var(--sklearn-color-unfitted-level-3);\n",
       "  color: var(--sklearn-color-background);\n",
       "  text-decoration: none;\n",
       "}\n",
       "\n",
       "div.sk-estimator.fitted:hover .sk-estimator-doc-link.fitted:hover,\n",
       ".sk-estimator-doc-link.fitted:hover,\n",
       "div.sk-label-container:hover .sk-estimator-doc-link.fitted:hover,\n",
       ".sk-estimator-doc-link.fitted:hover {\n",
       "  /* fitted */\n",
       "  background-color: var(--sklearn-color-fitted-level-3);\n",
       "  color: var(--sklearn-color-background);\n",
       "  text-decoration: none;\n",
       "}\n",
       "\n",
       "/* Span, style for the box shown on hovering the info icon */\n",
       ".sk-estimator-doc-link span {\n",
       "  display: none;\n",
       "  z-index: 9999;\n",
       "  position: relative;\n",
       "  font-weight: normal;\n",
       "  right: .2ex;\n",
       "  padding: .5ex;\n",
       "  margin: .5ex;\n",
       "  width: min-content;\n",
       "  min-width: 20ex;\n",
       "  max-width: 50ex;\n",
       "  color: var(--sklearn-color-text);\n",
       "  box-shadow: 2pt 2pt 4pt #999;\n",
       "  /* unfitted */\n",
       "  background: var(--sklearn-color-unfitted-level-0);\n",
       "  border: .5pt solid var(--sklearn-color-unfitted-level-3);\n",
       "}\n",
       "\n",
       ".sk-estimator-doc-link.fitted span {\n",
       "  /* fitted */\n",
       "  background: var(--sklearn-color-fitted-level-0);\n",
       "  border: var(--sklearn-color-fitted-level-3);\n",
       "}\n",
       "\n",
       ".sk-estimator-doc-link:hover span {\n",
       "  display: block;\n",
       "}\n",
       "\n",
       "/* \"?\"-specific style due to the `<a>` HTML tag */\n",
       "\n",
       "#sk-container-id-3 a.estimator_doc_link {\n",
       "  float: right;\n",
       "  font-size: 1rem;\n",
       "  line-height: 1em;\n",
       "  font-family: monospace;\n",
       "  background-color: var(--sklearn-color-background);\n",
       "  border-radius: 1rem;\n",
       "  height: 1rem;\n",
       "  width: 1rem;\n",
       "  text-decoration: none;\n",
       "  /* unfitted */\n",
       "  color: var(--sklearn-color-unfitted-level-1);\n",
       "  border: var(--sklearn-color-unfitted-level-1) 1pt solid;\n",
       "}\n",
       "\n",
       "#sk-container-id-3 a.estimator_doc_link.fitted {\n",
       "  /* fitted */\n",
       "  border: var(--sklearn-color-fitted-level-1) 1pt solid;\n",
       "  color: var(--sklearn-color-fitted-level-1);\n",
       "}\n",
       "\n",
       "/* On hover */\n",
       "#sk-container-id-3 a.estimator_doc_link:hover {\n",
       "  /* unfitted */\n",
       "  background-color: var(--sklearn-color-unfitted-level-3);\n",
       "  color: var(--sklearn-color-background);\n",
       "  text-decoration: none;\n",
       "}\n",
       "\n",
       "#sk-container-id-3 a.estimator_doc_link.fitted:hover {\n",
       "  /* fitted */\n",
       "  background-color: var(--sklearn-color-fitted-level-3);\n",
       "}\n",
       "</style><div id=\"sk-container-id-3\" class=\"sk-top-container\"><div class=\"sk-text-repr-fallback\"><pre>LinearRegression()</pre><b>In a Jupyter environment, please rerun this cell to show the HTML representation or trust the notebook. <br />On GitHub, the HTML representation is unable to render, please try loading this page with nbviewer.org.</b></div><div class=\"sk-container\" hidden><div class=\"sk-item\"><div class=\"sk-estimator fitted sk-toggleable\"><input class=\"sk-toggleable__control sk-hidden--visually\" id=\"sk-estimator-id-3\" type=\"checkbox\" checked><label for=\"sk-estimator-id-3\" class=\"sk-toggleable__label fitted sk-toggleable__label-arrow fitted\">&nbsp;&nbsp;LinearRegression<a class=\"sk-estimator-doc-link fitted\" rel=\"noreferrer\" target=\"_blank\" href=\"https://scikit-learn.org/1.5/modules/generated/sklearn.linear_model.LinearRegression.html\">?<span>Documentation for LinearRegression</span></a><span class=\"sk-estimator-doc-link fitted\">i<span>Fitted</span></span></label><div class=\"sk-toggleable__content fitted\"><pre>LinearRegression()</pre></div> </div></div></div></div>"
      ],
      "text/plain": [
       "LinearRegression()"
      ]
     },
     "execution_count": 51,
     "metadata": {},
     "output_type": "execute_result"
    }
   ],
   "source": [
    "hnw_reg.fit(X_train, x_test)"
   ]
  },
  {
   "cell_type": "code",
   "execution_count": 54,
   "id": "7d12fb9e-81e4-456a-8b4d-354a8e9f6349",
   "metadata": {},
   "outputs": [
    {
     "name": "stdout",
     "output_type": "stream",
     "text": [
      "Slope [[3.0470147]]\n",
      "Intercept [-80.11198154]\n"
     ]
    }
   ],
   "source": [
    "print(\"Slope\", hnw_reg.coef_)\n",
    "print(\"Intercept\", hnw_reg.intercept_)"
   ]
  },
  {
   "cell_type": "code",
   "execution_count": 57,
   "id": "ddb5ae36-c4cf-4aa4-b215-fb4b65146893",
   "metadata": {},
   "outputs": [],
   "source": [
    "y_pred = hnw_reg.predict(Y_train)"
   ]
  },
  {
   "cell_type": "code",
   "execution_count": 63,
   "id": "b018d190-27c2-4a42-9f41-35645bf052b4",
   "metadata": {},
   "outputs": [
    {
     "name": "stdout",
     "output_type": "stream",
     "text": [
      "r2_score from metrics 0.26649655390271565\n",
      "r2 score from regression object 0.24826165699625946\n"
     ]
    }
   ],
   "source": [
    "print(\"r2_score from metrics\", r2_score(y_test, y_pred))\n",
    "print(\"r2 score from regression object\", hnw_reg.score(X_train, x_test))"
   ]
  }
 ],
 "metadata": {
  "kernelspec": {
   "display_name": "Python 3 (ipykernel)",
   "language": "python",
   "name": "python3"
  },
  "language_info": {
   "codemirror_mode": {
    "name": "ipython",
    "version": 3
   },
   "file_extension": ".py",
   "mimetype": "text/x-python",
   "name": "python",
   "nbconvert_exporter": "python",
   "pygments_lexer": "ipython3",
   "version": "3.10.0"
  }
 },
 "nbformat": 4,
 "nbformat_minor": 5
}
