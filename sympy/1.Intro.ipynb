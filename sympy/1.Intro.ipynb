{
 "cells": [
  {
   "cell_type": "code",
   "execution_count": 1,
   "id": "527dc7d3-4d8c-4336-9e5f-1d5d6d9cbbb6",
   "metadata": {},
   "outputs": [],
   "source": [
    "import sympy"
   ]
  },
  {
   "cell_type": "code",
   "execution_count": 3,
   "id": "a2964d2b-25d2-4784-998d-548caa0d0d9c",
   "metadata": {},
   "outputs": [],
   "source": [
    "sympy.init_printing()"
   ]
  },
  {
   "cell_type": "markdown",
   "id": "2960fe4b-95f7-4f23-859e-d32920d143af",
   "metadata": {},
   "source": [
    "##### Create Symbols"
   ]
  },
  {
   "cell_type": "code",
   "execution_count": 2,
   "id": "75edf38b-0f30-48df-adcc-9ccda0c6be44",
   "metadata": {},
   "outputs": [],
   "source": [
    "x = sympy.Symbol('x')"
   ]
  },
  {
   "cell_type": "code",
   "execution_count": 8,
   "id": "9810be4e-684f-4978-bc2b-733a82a6facd",
   "metadata": {},
   "outputs": [
    {
     "data": {
      "image/png": "[encoded data removed]",
      "text/latex": [
       "$\\displaystyle x$"
      ],
      "text/plain": [
       "x"
      ]
     },
     "execution_count": 8,
     "metadata": {},
     "output_type": "execute_result"
    }
   ],
   "source": [
    "x"
   ]
  },
  {
   "cell_type": "code",
   "execution_count": 3,
   "id": "052e4171-7cc4-41a8-a6c2-127ae3b3adcf",
   "metadata": {},
   "outputs": [],
   "source": [
    "y = sympy.Symbol('y', real=True)"
   ]
  },
  {
   "cell_type": "code",
   "execution_count": 13,
   "id": "60cc3f38-54eb-4977-89ce-49fc143294ed",
   "metadata": {},
   "outputs": [
    {
     "data": {
      "text/plain": [
       "True"
      ]
     },
     "execution_count": 13,
     "metadata": {},
     "output_type": "execute_result"
    }
   ],
   "source": [
    "y.is_real"
   ]
  },
  {
   "cell_type": "code",
   "execution_count": 15,
   "id": "4b0b12f8-aa2a-476f-9a3b-e310e23c5827",
   "metadata": {},
   "outputs": [
    {
     "data": {
      "image/png": "[encoded data removed]",
      "text/latex": [
       "$\\displaystyle \\sqrt{x^{2}}$"
      ],
      "text/plain": [
       "   ____\n",
       "  ╱  2 \n",
       "╲╱  x  "
      ]
     },
     "execution_count": 15,
     "metadata": {},
     "output_type": "execute_result"
    }
   ],
   "source": [
    "sympy.sqrt(x ** 2)"
   ]
  },
  {
   "cell_type": "code",
   "execution_count": 16,
   "id": "2a601cd7-ffb7-4789-8677-414d2c96e59d",
   "metadata": {},
   "outputs": [
    {
     "data": {
      "image/png": "[encoded data removed]",
      "text/latex": [
       "$\\displaystyle \\left|{y}\\right|$"
      ],
      "text/plain": [
       "│y│"
      ]
     },
     "execution_count": 16,
     "metadata": {},
     "output_type": "execute_result"
    }
   ],
   "source": [
    "sympy.sqrt(y ** 2)"
   ]
  },
  {
   "cell_type": "markdown",
   "id": "4735564b-a0c0-472e-988e-6fec8774868c",
   "metadata": {},
   "source": [
    "###### Bulk Create"
   ]
  },
  {
   "cell_type": "code",
   "execution_count": 24,
   "id": "6215e1fd-fb31-4590-a6a9-be65e6a5a8a1",
   "metadata": {},
   "outputs": [],
   "source": [
    "a, b, c = sympy.symbols('a, b, c', positive=True)"
   ]
  },
  {
   "cell_type": "code",
   "execution_count": 27,
   "id": "fd5034b5-d8d2-4a9b-9f66-b99bf1096f11",
   "metadata": {},
   "outputs": [],
   "source": [
    "d, e, f = sympy.symbols('d, e, f', negative=True)"
   ]
  },
  {
   "cell_type": "markdown",
   "id": "4677fa57-8a77-4bcd-b64d-00e729085ace",
   "metadata": {},
   "source": [
    "##### Numbers"
   ]
  },
  {
   "cell_type": "code",
   "execution_count": 28,
   "id": "4d76faf8-ae37-40bb-a3a3-90c4682e57de",
   "metadata": {},
   "outputs": [],
   "source": [
    "mark = sympy.Integer(91)"
   ]
  },
  {
   "cell_type": "code",
   "execution_count": 33,
   "id": "a3847c35-29ee-41e5-b802-b249e726ace3",
   "metadata": {},
   "outputs": [
    {
     "data": {
      "text/plain": [
       "(True, True, True)"
      ]
     },
     "execution_count": 33,
     "metadata": {},
     "output_type": "execute_result"
    }
   ],
   "source": [
    "mark.is_real, mark.is_Integer, mark.is_positive"
   ]
  },
  {
   "cell_type": "code",
   "execution_count": 35,
   "id": "bca0c12f-cdca-459d-ab80-cc957afe884f",
   "metadata": {},
   "outputs": [],
   "source": [
    "cgpa = sympy.Float(7.8)"
   ]
  },
  {
   "cell_type": "code",
   "execution_count": 36,
   "id": "215bf652-8592-4be1-91a8-8d80f9c0ba60",
   "metadata": {},
   "outputs": [
    {
     "data": {
      "text/plain": [
       "(False, True, False)"
      ]
     },
     "execution_count": 36,
     "metadata": {},
     "output_type": "execute_result"
    }
   ],
   "source": [
    "cgpa.is_Integer, cgpa.is_Float, cgpa.is_odd"
   ]
  },
  {
   "cell_type": "code",
   "execution_count": 37,
   "id": "b1ef9629-5046-4582-b56b-3722ec086e3f",
   "metadata": {},
   "outputs": [
    {
     "data": {
      "image/png": "[encoded data removed]",
      "text/latex": [
       "$\\displaystyle 21$"
      ],
      "text/plain": [
       "21"
      ]
     },
     "execution_count": 37,
     "metadata": {},
     "output_type": "execute_result"
    }
   ],
   "source": [
    "sympy.sympify('21')"
   ]
  },
  {
   "cell_type": "code",
   "execution_count": 40,
   "id": "306a92d6-3f78-4892-a9b1-37a35a9b1cf8",
   "metadata": {},
   "outputs": [],
   "source": [
    "dollar_amt = sympy.sympify('20.5423121')"
   ]
  },
  {
   "cell_type": "code",
   "execution_count": 41,
   "id": "a568f007-601d-4e7a-a384-dba7aa79c868",
   "metadata": {},
   "outputs": [
    {
     "data": {
      "text/plain": [
       "sympy.core.numbers.Float"
      ]
     },
     "execution_count": 41,
     "metadata": {},
     "output_type": "execute_result"
    }
   ],
   "source": [
    "type(dollar_amt)"
   ]
  },
  {
   "cell_type": "markdown",
   "id": "d8a15ae7-0798-410c-8178-985948cfee42",
   "metadata": {},
   "source": [
    "##### Rational Numbers"
   ]
  },
  {
   "cell_type": "code",
   "execution_count": 44,
   "id": "2865527a-345e-4039-a4e0-2609b2f65a55",
   "metadata": {},
   "outputs": [],
   "source": [
    "mark1 = sympy.Rational(2, 5)"
   ]
  },
  {
   "cell_type": "code",
   "execution_count": 45,
   "id": "232cfb22-8d22-4fce-8ad8-449e7fe67be8",
   "metadata": {},
   "outputs": [],
   "source": [
    "mark2 = sympy.Rational(3, 5)"
   ]
  },
  {
   "cell_type": "code",
   "execution_count": 46,
   "id": "2b474a7f-6809-47fd-b557-77a2597e4669",
   "metadata": {},
   "outputs": [
    {
     "data": {
      "image/png": "[encoded data removed]",
      "text/latex": [
       "$\\displaystyle \\frac{6}{25}$"
      ],
      "text/plain": [
       "6/25"
      ]
     },
     "execution_count": 46,
     "metadata": {},
     "output_type": "execute_result"
    }
   ],
   "source": [
    "mark1 * mark2"
   ]
  },
  {
   "cell_type": "markdown",
   "id": "b2b7e2db-fd63-47ab-8e97-aee4574e64c8",
   "metadata": {},
   "source": [
    "###### Sympy Infinity"
   ]
  },
  {
   "cell_type": "code",
   "execution_count": 48,
   "id": "43bd259b-6a60-47f7-bc97-cd00f4a360db",
   "metadata": {},
   "outputs": [
    {
     "data": {
      "image/png": "[encoded data removed]",
      "text/latex": [
       "$\\displaystyle \\infty$"
      ],
      "text/plain": [
       "∞"
      ]
     },
     "execution_count": 48,
     "metadata": {},
     "output_type": "execute_result"
    }
   ],
   "source": [
    "sympy.oo"
   ]
  },
  {
   "cell_type": "markdown",
   "id": "1872008a-77bc-4ab5-80ca-d7a3d391f5c8",
   "metadata": {},
   "source": [
    "##### Functions"
   ]
  },
  {
   "cell_type": "code",
   "execution_count": 49,
   "id": "21dd287a-5589-41e1-a9bf-1b4decccc7b5",
   "metadata": {},
   "outputs": [],
   "source": [
    "f = sympy.Function('f')"
   ]
  },
  {
   "cell_type": "code",
   "execution_count": 53,
   "id": "b7f0775f-be40-4223-91e4-405c909261a7",
   "metadata": {},
   "outputs": [
    {
     "data": {
      "image/png": "[encoded data removed]",
      "text/latex": [
       "$\\displaystyle f{\\left(x \\right)}$"
      ],
      "text/plain": [
       "f(x)"
      ]
     },
     "execution_count": 53,
     "metadata": {},
     "output_type": "execute_result"
    }
   ],
   "source": [
    "f(x)"
   ]
  },
  {
   "cell_type": "markdown",
   "id": "71ebee90-0593-4c39-bc5e-4d2d00c1d6a7",
   "metadata": {},
   "source": [
    "###### Defining Functions"
   ]
  },
  {
   "cell_type": "code",
   "execution_count": 55,
   "id": "ee9ee0ce-e144-4c35-9a7f-1063444d2157",
   "metadata": {},
   "outputs": [],
   "source": [
    "h = sympy.Lambda(x, x **2)"
   ]
  },
  {
   "cell_type": "code",
   "execution_count": 57,
   "id": "5e06dddd-1e9f-40d9-96f1-86b494c90b11",
   "metadata": {},
   "outputs": [
    {
     "data": {
      "image/png": "[encoded data removed]",
      "text/latex": [
       "$\\displaystyle \\left(x + 1\\right)^{2}$"
      ],
      "text/plain": [
       "       2\n",
       "(x + 1) "
      ]
     },
     "execution_count": 57,
     "metadata": {},
     "output_type": "execute_result"
    }
   ],
   "source": [
    "h(1 + x)"
   ]
  },
  {
   "cell_type": "code",
   "execution_count": 58,
   "id": "d8604acb-7d36-4f91-a89b-0d74352660dd",
   "metadata": {},
   "outputs": [
    {
     "data": {
      "text/plain": [
       "sympy.core.function.Lambda"
      ]
     },
     "execution_count": 58,
     "metadata": {},
     "output_type": "execute_result"
    }
   ],
   "source": [
    "type(h)"
   ]
  },
  {
   "cell_type": "markdown",
   "id": "e0f105a2-9bed-44c6-ab85-28b60074e97d",
   "metadata": {},
   "source": [
    "##### Expressions"
   ]
  },
  {
   "cell_type": "code",
   "execution_count": 61,
   "id": "a620d08b-33d7-4f75-b2d6-a38276a43057",
   "metadata": {},
   "outputs": [],
   "source": [
    "expr = 3 * x ** 3 + 2 * x**2 + x + 1"
   ]
  },
  {
   "cell_type": "code",
   "execution_count": 62,
   "id": "b054288e-4901-4aeb-8a6e-9c3e973ed66f",
   "metadata": {},
   "outputs": [
    {
     "data": {
      "image/png": "[encoded data removed]",
      "text/latex": [
       "$\\displaystyle 3 x^{3} + 2 x^{2} + x + 1$"
      ],
      "text/plain": [
       "   3      2        \n",
       "3⋅x  + 2⋅x  + x + 1"
      ]
     },
     "execution_count": 62,
     "metadata": {},
     "output_type": "execute_result"
    }
   ],
   "source": [
    "expr"
   ]
  },
  {
   "cell_type": "code",
   "execution_count": 63,
   "id": "0e7e28b7-3b35-4c5e-bd7d-937b97fc25df",
   "metadata": {},
   "outputs": [
    {
     "data": {
      "image/png": "[encoded data removed]",
      "text/latex": [
       "$\\displaystyle 3 x^{3} + 2 x^{2} + x + 1$"
      ],
      "text/plain": [
       "   3      2        \n",
       "3⋅x  + 2⋅x  + x + 1"
      ]
     },
     "execution_count": 63,
     "metadata": {},
     "output_type": "execute_result"
    }
   ],
   "source": [
    "expr.simplify()"
   ]
  },
  {
   "cell_type": "code",
   "execution_count": 64,
   "id": "d4fc4731-622c-4115-a420-88689a6401a7",
   "metadata": {},
   "outputs": [
    {
     "data": {
      "image/png": "[encoded data removed]",
      "text/latex": [
       "$\\displaystyle \\left( 1, \\  x, \\  2 x^{2}, \\  3 x^{3}\\right)$"
      ],
      "text/plain": [
       "⎛         2     3⎞\n",
       "⎝1, x, 2⋅x , 3⋅x ⎠"
      ]
     },
     "execution_count": 64,
     "metadata": {},
     "output_type": "execute_result"
    }
   ],
   "source": [
    "expr.args"
   ]
  },
  {
   "cell_type": "code",
   "execution_count": 72,
   "id": "370e0df3-80f8-4091-b397-5087a04a958e",
   "metadata": {},
   "outputs": [
    {
     "data": {
      "image/png": "[encoded data removed]",
      "text/latex": [
       "$\\displaystyle \\left( \\right)$"
      ],
      "text/plain": [
       "()"
      ]
     },
     "execution_count": 72,
     "metadata": {},
     "output_type": "execute_result"
    }
   ],
   "source": [
    "expr.args[3].args[1].args[0].args"
   ]
  },
  {
   "cell_type": "markdown",
   "id": "c914ffef-dc53-48f6-a532-c09aed0dec37",
   "metadata": {},
   "source": [
    "###### Expanding Expressions"
   ]
  },
  {
   "cell_type": "code",
   "execution_count": 74,
   "id": "6de8d942-6d32-4de2-ab8b-e9e9fcb62703",
   "metadata": {},
   "outputs": [],
   "source": [
    "ex_expr = (x + 1) * (x + 2)"
   ]
  },
  {
   "cell_type": "code",
   "execution_count": 76,
   "id": "1dd20b74-5736-4457-a3b1-24acb4a1712b",
   "metadata": {},
   "outputs": [
    {
     "data": {
      "image/png": "[encoded data removed]",
      "text/latex": [
       "$\\displaystyle x^{2} + 3 x + 2$"
      ],
      "text/plain": [
       " 2          \n",
       "x  + 3⋅x + 2"
      ]
     },
     "execution_count": 76,
     "metadata": {},
     "output_type": "execute_result"
    }
   ],
   "source": [
    "ex_expr.expand()"
   ]
  },
  {
   "cell_type": "markdown",
   "id": "19da04bd-792e-416c-946c-0adc473cd2c1",
   "metadata": {},
   "source": [
    "##### Factors"
   ]
  },
  {
   "cell_type": "code",
   "execution_count": 77,
   "id": "a2bbbbcd-f284-4eab-8f5a-c56856aca93a",
   "metadata": {},
   "outputs": [],
   "source": [
    "factors = sympy.factor(x ** 2 - 1)"
   ]
  },
  {
   "cell_type": "code",
   "execution_count": 78,
   "id": "ed7d95e6-9c39-4fce-a676-4312086420bf",
   "metadata": {},
   "outputs": [
    {
     "data": {
      "image/png": "[encoded data removed]",
      "text/latex": [
       "$\\displaystyle \\left(x - 1\\right) \\left(x + 1\\right)$"
      ],
      "text/plain": [
       "(x - 1)⋅(x + 1)"
      ]
     },
     "execution_count": 78,
     "metadata": {},
     "output_type": "execute_result"
    }
   ],
   "source": [
    "factors"
   ]
  },
  {
   "cell_type": "markdown",
   "id": "a6e6ac62-b550-4a7a-a17c-33e90b1a7ff8",
   "metadata": {},
   "source": [
    "##### Collecting common value"
   ]
  },
  {
   "cell_type": "code",
   "execution_count": 81,
   "id": "651e8cdc-6185-4ec4-b049-947c1b2d5bf8",
   "metadata": {},
   "outputs": [],
   "source": [
    "common_expr = x + y + x * y"
   ]
  },
  {
   "cell_type": "code",
   "execution_count": 87,
   "id": "3f3fce4f-3e18-4d66-91bb-85138c79acbb",
   "metadata": {},
   "outputs": [
    {
     "data": {
      "image/png": "[encoded data removed]",
      "text/latex": [
       "$\\displaystyle x + y \\left(x + 1\\right)$"
      ],
      "text/plain": [
       "x + y⋅(x + 1)"
      ]
     },
     "execution_count": 87,
     "metadata": {},
     "output_type": "execute_result"
    }
   ],
   "source": [
    "common_expr.collect(y)"
   ]
  },
  {
   "cell_type": "markdown",
   "id": "c8510488-1042-431d-87b5-0bc437a6d8e2",
   "metadata": {},
   "source": [
    "##### Apart"
   ]
  },
  {
   "cell_type": "code",
   "execution_count": 89,
   "id": "dae39457-a7e5-4f1c-8e25-862c59499d21",
   "metadata": {},
   "outputs": [
    {
     "data": {
      "image/png": "[encoded data removed]",
      "text/latex": [
       "$\\displaystyle - \\frac{1}{x + 2} + \\frac{1}{x + 1}$"
      ],
      "text/plain": [
       "    1       1  \n",
       "- ───── + ─────\n",
       "  x + 2   x + 1"
      ]
     },
     "execution_count": 89,
     "metadata": {},
     "output_type": "execute_result"
    }
   ],
   "source": [
    "sympy.apart(1/(x ** 2 + 3 * x + 2), x)"
   ]
  },
  {
   "cell_type": "markdown",
   "id": "f88342d9-b015-4e24-8717-eadfb929cd8e",
   "metadata": {},
   "source": [
    "##### Together"
   ]
  },
  {
   "cell_type": "code",
   "execution_count": 90,
   "id": "c8c66844-2274-431b-9126-abbc65c2cd7c",
   "metadata": {},
   "outputs": [
    {
     "data": {
      "image/png": "[encoded data removed]",
      "text/latex": [
       "$\\displaystyle \\frac{y \\left(x + 1\\right)}{x}$"
      ],
      "text/plain": [
       "y⋅(x + 1)\n",
       "─────────\n",
       "    x    "
      ]
     },
     "execution_count": 90,
     "metadata": {},
     "output_type": "execute_result"
    }
   ],
   "source": [
    "sympy.together(1/x * y + y, 1/y + x)"
   ]
  },
  {
   "cell_type": "markdown",
   "id": "04b14d32-bef8-417b-8b94-97250d52262b",
   "metadata": {},
   "source": [
    "##### Cancel"
   ]
  },
  {
   "cell_type": "code",
   "execution_count": 93,
   "id": "b52f9cde-483c-4961-b2a6-adcb3dfaeffc",
   "metadata": {},
   "outputs": [
    {
     "data": {
      "image/png": "[encoded data removed]",
      "text/latex": [
       "$\\displaystyle \\frac{1}{x + 1}$"
      ],
      "text/plain": [
       "  1  \n",
       "─────\n",
       "x + 1"
      ]
     },
     "execution_count": 93,
     "metadata": {},
     "output_type": "execute_result"
    }
   ],
   "source": [
    "sympy.cancel(y / (y * x + y))"
   ]
  },
  {
   "cell_type": "markdown",
   "id": "5a913ee7-27c9-415b-8f6a-dc5d560f0126",
   "metadata": {},
   "source": [
    "###### Substitution"
   ]
  },
  {
   "cell_type": "code",
   "execution_count": 4,
   "id": "bab638e9-0fe7-4a40-8f92-c6f3770512cd",
   "metadata": {},
   "outputs": [
    {
     "data": {
      "text/latex": [
       "$\\displaystyle 2 y$"
      ],
      "text/plain": [
       "2*y"
      ]
     },
     "execution_count": 4,
     "metadata": {},
     "output_type": "execute_result"
    }
   ],
   "source": [
    "(x + y).subs(x, y)"
   ]
  },
  {
   "cell_type": "markdown",
   "id": "4bb2134d-b8da-44aa-846d-76d32cf903fd",
   "metadata": {},
   "source": [
    "###### Numerical Evalution"
   ]
  },
  {
   "cell_type": "code",
   "execution_count": 7,
   "id": "8c969c7b-da42-4b16-b0cd-901f03261eec",
   "metadata": {},
   "outputs": [
    {
     "data": {
      "text/latex": [
       "$\\displaystyle 4.14159265358979$"
      ],
      "text/plain": [
       "4.14159265358979"
      ]
     },
     "execution_count": 7,
     "metadata": {},
     "output_type": "execute_result"
    }
   ],
   "source": [
    "sympy.N(1 + sympy.pi)"
   ]
  },
  {
   "cell_type": "code",
   "execution_count": null,
   "id": "cf56be5a-de93-417b-a36a-1371f31a5ee1",
   "metadata": {},
   "outputs": [],
   "source": []
  }
 ],
 "metadata": {
  "kernelspec": {
   "display_name": "Python 3 (ipykernel)",
   "language": "python",
   "name": "python3"
  },
  "language_info": {
   "codemirror_mode": {
    "name": "ipython",
    "version": 3
   },
   "file_extension": ".py",
   "mimetype": "text/x-python",
   "name": "python",
   "nbconvert_exporter": "python",
   "pygments_lexer": "ipython3",
   "version": "3.10.12"
  }
 },
 "nbformat": 4,
 "nbformat_minor": 5
}
