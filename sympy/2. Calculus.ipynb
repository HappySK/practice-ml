{
 "cells": [
  {
   "cell_type": "code",
   "execution_count": 2,
   "id": "472def5b-8a6f-4f54-b609-e5f9d138f1c5",
   "metadata": {},
   "outputs": [],
   "source": [
    "import sympy"
   ]
  },
  {
   "cell_type": "code",
   "execution_count": 14,
   "id": "13ae1ce0-b686-43f8-a3a1-8997d2f499e3",
   "metadata": {},
   "outputs": [
    {
     "data": {
      "text/latex": [
       "$\\displaystyle \\frac{d^{5}}{d x^{5}} f{\\left(x \\right)}$"
      ],
      "text/plain": [
       "Derivative(f(x), (x, 5))"
      ]
     },
     "execution_count": 14,
     "metadata": {},
     "output_type": "execute_result"
    }
   ],
   "source": [
    "x = sympy.Symbol('x')\n",
    "f = sympy.Function('f')(x)\n",
    "sympy.diff(f, x, 5)"
   ]
  },
  {
   "cell_type": "code",
   "execution_count": 16,
   "id": "c069e69c-7d3a-4512-be67-72cc6e0c2598",
   "metadata": {},
   "outputs": [],
   "source": [
    "y = sympy.Symbol('y')"
   ]
  },
  {
   "cell_type": "code",
   "execution_count": 18,
   "id": "8971e426-d334-405d-8e02-ed229ce1ecb2",
   "metadata": {},
   "outputs": [],
   "source": [
    "g = sympy.Function('g')(x, y)"
   ]
  },
  {
   "cell_type": "code",
   "execution_count": 19,
   "id": "67d4ff0c-8b6f-45a7-ae92-7647bdd9174a",
   "metadata": {},
   "outputs": [
    {
     "data": {
      "text/latex": [
       "$\\displaystyle \\frac{\\partial^{2}}{\\partial y\\partial x} g{\\left(x,y \\right)}$"
      ],
      "text/plain": [
       "Derivative(g(x, y), x, y)"
      ]
     },
     "execution_count": 19,
     "metadata": {},
     "output_type": "execute_result"
    }
   ],
   "source": [
    "sympy.diff(g, x, y)"
   ]
  },
  {
   "cell_type": "code",
   "execution_count": null,
   "id": "4fddfc84-2d77-4fe4-9a45-44411c59886c",
   "metadata": {},
   "outputs": [],
   "source": []
  }
 ],
 "metadata": {
  "kernelspec": {
   "display_name": "Python 3 (ipykernel)",
   "language": "python",
   "name": "python3"
  },
  "language_info": {
   "codemirror_mode": {
    "name": "ipython",
    "version": 3
   },
   "file_extension": ".py",
   "mimetype": "text/x-python",
   "name": "python",
   "nbconvert_exporter": "python",
   "pygments_lexer": "ipython3",
   "version": "3.10.12"
  }
 },
 "nbformat": 4,
 "nbformat_minor": 5
}
