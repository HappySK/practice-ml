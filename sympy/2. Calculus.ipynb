{
 "cells": [
  {
   "cell_type": "code",
   "execution_count": 2,
   "id": "472def5b-8a6f-4f54-b609-e5f9d138f1c5",
   "metadata": {},
   "outputs": [],
   "source": [
    "import sympy"
   ]
  },
  {
   "cell_type": "code",
   "execution_count": 3,
   "id": "13ae1ce0-b686-43f8-a3a1-8997d2f499e3",
   "metadata": {},
   "outputs": [
    {
     "data": {
      "text/latex": [
       "$\\displaystyle \\frac{d^{5}}{d x^{5}} f{\\left(x \\right)}$"
      ],
      "text/plain": [
       "Derivative(f(x), (x, 5))"
      ]
     },
     "execution_count": 3,
     "metadata": {},
     "output_type": "execute_result"
    }
   ],
   "source": [
    "x = sympy.Symbol('x')\n",
    "f = sympy.Function('f')(x)\n",
    "sympy.diff(f, x, 5)"
   ]
  },
  {
   "cell_type": "code",
   "execution_count": 4,
   "id": "c069e69c-7d3a-4512-be67-72cc6e0c2598",
   "metadata": {},
   "outputs": [],
   "source": [
    "y = sympy.Symbol('y')"
   ]
  },
  {
   "cell_type": "code",
   "execution_count": 5,
   "id": "8971e426-d334-405d-8e02-ed229ce1ecb2",
   "metadata": {},
   "outputs": [],
   "source": [
    "g = sympy.Function('g')(x, y)"
   ]
  },
  {
   "cell_type": "code",
   "execution_count": 6,
   "id": "67d4ff0c-8b6f-45a7-ae92-7647bdd9174a",
   "metadata": {},
   "outputs": [
    {
     "data": {
      "text/latex": [
       "$\\displaystyle \\frac{\\partial^{2}}{\\partial y\\partial x} g{\\left(x,y \\right)}$"
      ],
      "text/plain": [
       "Derivative(g(x, y), x, y)"
      ]
     },
     "execution_count": 6,
     "metadata": {},
     "output_type": "execute_result"
    }
   ],
   "source": [
    "sympy.diff(g, x, y)"
   ]
  },
  {
   "cell_type": "markdown",
   "id": "624d2f86-fb49-4e1c-8a35-b6f9555835aa",
   "metadata": {},
   "source": [
    "###### Perform Differentiation"
   ]
  },
  {
   "cell_type": "code",
   "execution_count": 7,
   "id": "9f253d04-538b-44eb-9051-d75904071311",
   "metadata": {},
   "outputs": [
    {
     "data": {
      "text/latex": [
       "$\\displaystyle 4 x^{3} + 9 x^{2} + 4 x$"
      ],
      "text/plain": [
       "4*x**3 + 9*x**2 + 4*x"
      ]
     },
     "execution_count": 7,
     "metadata": {},
     "output_type": "execute_result"
    }
   ],
   "source": [
    "expr = x ** 4 + 3 * x ** 3 + 2 * x ** 2 + 1\n",
    "expr.diff(x)"
   ]
  },
  {
   "cell_type": "markdown",
   "id": "9713df5f-8751-4eb4-862c-46c9bd916e20",
   "metadata": {},
   "source": [
    "###### Differentiation on multiple variable"
   ]
  },
  {
   "cell_type": "code",
   "execution_count": 11,
   "id": "4fba4324-c391-4d05-bb05-94944f6b1717",
   "metadata": {},
   "outputs": [],
   "source": [
    "z = sympy.Symbol('z')\n",
    "expr = (x + 1) ** 3 * y ** 2 * (z - 1)"
   ]
  },
  {
   "cell_type": "code",
   "execution_count": 12,
   "id": "6dd383b4-a7d3-4f79-afcb-c2a05c6e0478",
   "metadata": {},
   "outputs": [
    {
     "data": {
      "text/latex": [
       "$\\displaystyle y^{2} \\left(x + 1\\right)^{3} \\left(z - 1\\right)$"
      ],
      "text/plain": [
       "y**2*(x + 1)**3*(z - 1)"
      ]
     },
     "execution_count": 12,
     "metadata": {},
     "output_type": "execute_result"
    }
   ],
   "source": [
    "expr"
   ]
  },
  {
   "cell_type": "code",
   "execution_count": 13,
   "id": "a891c40c-80cf-4c9d-8686-0091c8a2e3bc",
   "metadata": {},
   "outputs": [
    {
     "data": {
      "text/latex": [
       "$\\displaystyle 6 y \\left(x + 1\\right)^{2}$"
      ],
      "text/plain": [
       "6*y*(x + 1)**2"
      ]
     },
     "execution_count": 13,
     "metadata": {},
     "output_type": "execute_result"
    }
   ],
   "source": [
    "expr.diff(x, y, z)"
   ]
  },
  {
   "cell_type": "markdown",
   "id": "6430b2c3-7b4c-437d-9539-451eb2ecf5e8",
   "metadata": {},
   "source": [
    "###### Derivative()"
   ]
  },
  {
   "cell_type": "code",
   "execution_count": 16,
   "id": "e5ce021b-4837-419f-ad86-e09b29b95b88",
   "metadata": {},
   "outputs": [],
   "source": [
    "derv_expr = sympy.Derivative(expr, x)"
   ]
  },
  {
   "cell_type": "code",
   "execution_count": 17,
   "id": "eea2e161-9381-43e6-abfa-a3212ea69e19",
   "metadata": {},
   "outputs": [
    {
     "data": {
      "text/latex": [
       "$\\displaystyle 3 y^{2} \\left(x + 1\\right)^{2} \\left(z - 1\\right)$"
      ],
      "text/plain": [
       "3*y**2*(x + 1)**2*(z - 1)"
      ]
     },
     "execution_count": 17,
     "metadata": {},
     "output_type": "execute_result"
    }
   ],
   "source": [
    "derv_expr.doit()"
   ]
  },
  {
   "cell_type": "markdown",
   "id": "dc1824b5-64ba-4a61-b021-e727c9fef874",
   "metadata": {},
   "source": [
    "##### Intergral Calculus"
   ]
  },
  {
   "cell_type": "code",
   "execution_count": 19,
   "id": "0a0b24ff-3ef7-496a-b3b3-255f1367e46d",
   "metadata": {},
   "outputs": [],
   "source": [
    "a, b = sympy.symbols('a, b')"
   ]
  },
  {
   "cell_type": "code",
   "execution_count": 23,
   "id": "70fbd0a9-db39-44b5-863d-5fa81a41c84b",
   "metadata": {},
   "outputs": [
    {
     "data": {
      "text/latex": [
       "$\\displaystyle \\int\\limits_{-\\infty}^{\\infty} f{\\left(x \\right)}\\, dx$"
      ],
      "text/plain": [
       "Integral(f(x), (x, -oo, oo))"
      ]
     },
     "execution_count": 23,
     "metadata": {},
     "output_type": "execute_result"
    }
   ],
   "source": [
    "sympy.integrate(f, (x, -sympy.oo, sympy.oo))"
   ]
  },
  {
   "cell_type": "markdown",
   "id": "72964340-590d-431d-8b75-bf910cae375c",
   "metadata": {},
   "source": [
    "##### Sums"
   ]
  },
  {
   "cell_type": "code",
   "execution_count": 31,
   "id": "5706f1c0-8828-422d-8ad0-9247ce8ee2ac",
   "metadata": {},
   "outputs": [],
   "source": [
    "n = sympy.Sum(1/(x ** 2),(x, 0, sympy.oo))"
   ]
  },
  {
   "cell_type": "code",
   "execution_count": 32,
   "id": "e11fb20f-25cb-4db2-b43c-57f6bf0344b4",
   "metadata": {},
   "outputs": [
    {
     "data": {
      "text/latex": [
       "$\\displaystyle \\tilde{\\infty}$"
      ],
      "text/plain": [
       "zoo"
      ]
     },
     "execution_count": 32,
     "metadata": {},
     "output_type": "execute_result"
    }
   ],
   "source": [
    "n.doit()"
   ]
  },
  {
   "cell_type": "markdown",
   "id": "acc292b7-76ca-447d-803e-04aa72eaf640",
   "metadata": {},
   "source": [
    "##### Product"
   ]
  },
  {
   "cell_type": "code",
   "execution_count": 34,
   "id": "0ed7b550-6177-4fbd-9bd4-2d9622db45c1",
   "metadata": {},
   "outputs": [],
   "source": [
    "p = sympy.Product(x, (x, 1, 7))"
   ]
  },
  {
   "cell_type": "code",
   "execution_count": 35,
   "id": "cabfea76-8022-4306-8ae7-26e1ad167256",
   "metadata": {},
   "outputs": [
    {
     "data": {
      "text/latex": [
       "$\\displaystyle 5040$"
      ],
      "text/plain": [
       "5040"
      ]
     },
     "execution_count": 35,
     "metadata": {},
     "output_type": "execute_result"
    }
   ],
   "source": [
    "p.doit()"
   ]
  },
  {
   "cell_type": "markdown",
   "id": "4fb150e8-24dd-4457-bee4-e355274bfd5a",
   "metadata": {},
   "source": [
    "##### Equations"
   ]
  },
  {
   "cell_type": "code",
   "execution_count": 36,
   "id": "a5b6aa28-bfe1-41a0-ac63-ca74d9858291",
   "metadata": {},
   "outputs": [
    {
     "data": {
      "text/plain": [
       "[-3, 1]"
      ]
     },
     "execution_count": 36,
     "metadata": {},
     "output_type": "execute_result"
    }
   ],
   "source": [
    "eq = x ** 2 + 2 * x - 3\n",
    "sympy.solve(eq)"
   ]
  },
  {
   "cell_type": "markdown",
   "id": "e2f80a32-926c-4ca0-89e3-40eb72f60b05",
   "metadata": {},
   "source": [
    "##### Matrix"
   ]
  },
  {
   "cell_type": "code",
   "execution_count": 39,
   "id": "727d55a2-7d47-40cc-962d-d02211aeb049",
   "metadata": {},
   "outputs": [],
   "source": [
    "A = sympy.Matrix([1, 2])"
   ]
  },
  {
   "cell_type": "code",
   "execution_count": 40,
   "id": "4452a99c-26f8-4291-9e8e-2b83491ab996",
   "metadata": {},
   "outputs": [
    {
     "data": {
      "text/latex": [
       "$\\displaystyle \\left[\\begin{matrix}1\\\\2\\end{matrix}\\right]$"
      ],
      "text/plain": [
       "Matrix([\n",
       "[1],\n",
       "[2]])"
      ]
     },
     "execution_count": 40,
     "metadata": {},
     "output_type": "execute_result"
    }
   ],
   "source": [
    "A"
   ]
  },
  {
   "cell_type": "code",
   "execution_count": 41,
   "id": "733fd451-079c-4135-8c27-dce77af42f0f",
   "metadata": {},
   "outputs": [
    {
     "data": {
      "text/latex": [
       "$\\displaystyle \\left[\\begin{matrix}1 & 2\\\\3 & 4\\end{matrix}\\right]$"
      ],
      "text/plain": [
       "Matrix([\n",
       "[1, 2],\n",
       "[3, 4]])"
      ]
     },
     "execution_count": 41,
     "metadata": {},
     "output_type": "execute_result"
    }
   ],
   "source": [
    "B = sympy.Matrix([[1, 2], [3, 4]])\n",
    "B"
   ]
  },
  {
   "cell_type": "code",
   "execution_count": 45,
   "id": "cc099a4d-0a75-42f4-b14f-a11fc1977bd8",
   "metadata": {},
   "outputs": [
    {
     "data": {
      "text/latex": [
       "$\\displaystyle \\left[\\begin{matrix}10 & 20\\end{matrix}\\right]$"
      ],
      "text/plain": [
       "Matrix([[10, 20]])"
      ]
     },
     "execution_count": 45,
     "metadata": {},
     "output_type": "execute_result"
    }
   ],
   "source": [
    "C = sympy.Matrix([[10, 20]])\n",
    "C"
   ]
  },
  {
   "cell_type": "code",
   "execution_count": 47,
   "id": "5e2c569d-ce93-49c0-b48f-87068ead70db",
   "metadata": {},
   "outputs": [
    {
     "data": {
      "text/latex": [
       "$\\displaystyle \\left[\\begin{matrix}70 & 100\\end{matrix}\\right]$"
      ],
      "text/plain": [
       "Matrix([[70, 100]])"
      ]
     },
     "execution_count": 47,
     "metadata": {},
     "output_type": "execute_result"
    }
   ],
   "source": [
    "C * B"
   ]
  }
 ],
 "metadata": {
  "kernelspec": {
   "display_name": "Python 3 (ipykernel)",
   "language": "python",
   "name": "python3"
  },
  "language_info": {
   "codemirror_mode": {
    "name": "ipython",
    "version": 3
   },
   "file_extension": ".py",
   "mimetype": "text/x-python",
   "name": "python",
   "nbconvert_exporter": "python",
   "pygments_lexer": "ipython3",
   "version": "3.10.12"
  }
 },
 "nbformat": 4,
 "nbformat_minor": 5
}
