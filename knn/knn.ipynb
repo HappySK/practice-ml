{
 "cells": [
  {
   "cell_type": "markdown",
   "id": "dca9945a-e74b-4295-8463-99a4565fe990",
   "metadata": {},
   "source": [
    "## K Nearest Neighbours"
   ]
  },
  {
   "cell_type": "markdown",
   "id": "674a76c2-0aa5-480d-b735-3b7ea6fa5e97",
   "metadata": {},
   "source": [
    "1. It is one of the super simple ways to classify data\n",
    "2. Start with a dataset with known categories\n",
    "    - In this case, we have different cell types from an intestinal tumour\n",
    "    - Cluster the data\n",
    "3. Add a new cell, with an unknown category to the plot\n",
    "4. We classify new cell by looking at the nearest annotated cells i.e nearest neighbours\n",
    "5. If K in K Nearest neighbour, we see the nearest k neighbour"
   ]
  },
  {
   "cell_type": "markdown",
   "id": "452fce3b-49fb-47be-9e3a-29702447dfca",
   "metadata": {},
   "source": [
    "### Few thoughs on picking a value for K"
   ]
  },
  {
   "cell_type": "markdown",
   "id": "92c47b51-767f-45e4-b423-3b3d753dc7d3",
   "metadata": {},
   "source": [
    "1. There is no physical or boilogical way to determine the best value for \"K\", so you may have to try out a few values vefore settling on the one\n",
    "    - Do this by pretending part of the training data is \"unknown\"\n",
    "2. Low values for K (1, 2) can be noisy and subject to the effect of outliers\n",
    "3. Large values for K smooth over things, but you don't want K to be so large that a category with only a few samples in it will always be out voted by other categories"
   ]
  },
  {
   "cell_type": "code",
   "execution_count": 1,
   "id": "e6285b95-13af-457b-9b07-3eeb7de62a61",
   "metadata": {},
   "outputs": [],
   "source": [
    "from sklearn.neighbors import KNeighborsClassifier\n",
    "from sklearn.datasets import load_iris\n",
    "import pandas as pd\n",
    "from sklearn.model_selection import train_test_split"
   ]
  },
  {
   "cell_type": "code",
   "execution_count": 2,
   "id": "04947fa0-bd7f-4116-9511-e3e38fb21503",
   "metadata": {},
   "outputs": [],
   "source": [
    "iris = load_iris()"
   ]
  },
  {
   "cell_type": "markdown",
   "id": "81a6a626-5aef-44b4-a30d-58510017cfcc",
   "metadata": {},
   "source": [
    "### Create Dataframe"
   ]
  },
  {
   "cell_type": "code",
   "execution_count": 3,
   "id": "4b894bb4-50b9-4102-b9bf-eb6a56d51c72",
   "metadata": {},
   "outputs": [],
   "source": [
    "iris_features = pd.DataFrame(data=iris.data, columns=iris.feature_names)\n",
    "iris_target = pd.DataFrame(data=iris.target, columns=['species'])"
   ]
  },
  {
   "cell_type": "markdown",
   "id": "197e07c7-d27a-49f6-a490-4ccb2da7650d",
   "metadata": {},
   "source": [
    "### Split the data"
   ]
  },
  {
   "cell_type": "code",
   "execution_count": 4,
   "id": "27b9978f-6909-4430-9e19-21ad60089678",
   "metadata": {},
   "outputs": [],
   "source": [
    "X_train, X_test, y_train, y_test = train_test_split(iris_features, iris_target)"
   ]
  },
  {
   "cell_type": "markdown",
   "id": "2ba98b4a-8a4a-434c-9644-206685b8654c",
   "metadata": {},
   "source": [
    "### Train the data"
   ]
  },
  {
   "cell_type": "code",
   "execution_count": null,
   "id": "f26c6b74-c503-4611-adb3-af72400efa15",
   "metadata": {},
   "outputs": [],
   "source": [
    "clf = KNeighborsClassifier()\n",
    "cl"
   ]
  }
 ],
 "metadata": {
  "kernelspec": {
   "display_name": "Python 3 (ipykernel)",
   "language": "python",
   "name": "python3"
  },
  "language_info": {
   "codemirror_mode": {
    "name": "ipython",
    "version": 3
   },
   "file_extension": ".py",
   "mimetype": "text/x-python",
   "name": "python",
   "nbconvert_exporter": "python",
   "pygments_lexer": "ipython3",
   "version": "3.10.0"
  }
 },
 "nbformat": 4,
 "nbformat_minor": 5
}
