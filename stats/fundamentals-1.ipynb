{
 "cells": [
  {
   "cell_type": "markdown",
   "id": "47747bb3-9f99-455d-8d6f-51c4239a0fd2",
   "metadata": {},
   "source": [
    "# Imports"
   ]
  },
  {
   "cell_type": "markdown",
   "id": "a81fe8ba-1ea0-4c4b-bbb2-561e1bac2bbe",
   "metadata": {},
   "source": [
    "## Import required packages"
   ]
  },
  {
   "cell_type": "code",
   "execution_count": 19,
   "id": "f5b07af3-6cb6-4eef-94aa-31799a5e8667",
   "metadata": {},
   "outputs": [],
   "source": [
    "import matplotlib.pyplot as plt\n",
    "import numpy as np\n",
    "import pandas as pd\n",
    "from sklearn.datasets import load_iris\n",
    "from scipy import stats"
   ]
  },
  {
   "cell_type": "markdown",
   "id": "183358b5-0b6f-437b-a03e-4859620a55be",
   "metadata": {},
   "source": [
    "## Histograms"
   ]
  },
  {
   "cell_type": "markdown",
   "id": "494387ff-3bd5-4954-9374-3e42c6589b93",
   "metadata": {},
   "source": [
    "Histograms are used to determine the frequency of the specific feature "
   ]
  },
  {
   "cell_type": "code",
   "execution_count": 2,
   "id": "24c82b12-4d5a-4595-ab2b-207727e0168b",
   "metadata": {},
   "outputs": [],
   "source": [
    "iris = load_iris()"
   ]
  },
  {
   "cell_type": "markdown",
   "id": "6eb9a977-525c-4eae-970e-93e3d29e7606",
   "metadata": {},
   "source": [
    "**Get the data description columns**"
   ]
  },
  {
   "cell_type": "code",
   "execution_count": 3,
   "id": "6a6782ad-70af-465d-be71-561f79c974d7",
   "metadata": {},
   "outputs": [
    {
     "data": {
      "text/plain": [
       "dict_keys(['data', 'target', 'frame', 'target_names', 'DESCR', 'feature_names', 'filename', 'data_module'])"
      ]
     },
     "execution_count": 3,
     "metadata": {},
     "output_type": "execute_result"
    }
   ],
   "source": [
    "iris.keys()"
   ]
  },
  {
   "cell_type": "code",
   "execution_count": 4,
   "id": "e7eec93a-18fa-4eb3-920b-d43301a1a2d5",
   "metadata": {},
   "outputs": [
    {
     "data": {
      "text/plain": [
       "array(['setosa', 'versicolor', 'virginica'], dtype='<U10')"
      ]
     },
     "execution_count": 4,
     "metadata": {},
     "output_type": "execute_result"
    }
   ],
   "source": [
    "iris.target_names"
   ]
  },
  {
   "cell_type": "code",
   "execution_count": 5,
   "id": "56d85b4e-843a-4e93-aa73-25939f099963",
   "metadata": {},
   "outputs": [
    {
     "data": {
      "text/plain": [
       "['sepal length (cm)',\n",
       " 'sepal width (cm)',\n",
       " 'petal length (cm)',\n",
       " 'petal width (cm)']"
      ]
     },
     "execution_count": 5,
     "metadata": {},
     "output_type": "execute_result"
    }
   ],
   "source": [
    "iris.feature_names"
   ]
  },
  {
   "cell_type": "code",
   "execution_count": 6,
   "id": "6fb0222b-fc47-42e3-afb8-0d179636e934",
   "metadata": {},
   "outputs": [],
   "source": [
    "iris_df = pd.DataFrame(data=iris.data, columns=iris.feature_names)"
   ]
  },
  {
   "cell_type": "code",
   "execution_count": 7,
   "id": "b3be1205-67a8-44a7-ae81-bbd699d2d63f",
   "metadata": {},
   "outputs": [
    {
     "data": {
      "text/html": [
       "<div>\n",
       "<style scoped>\n",
       "    .dataframe tbody tr th:only-of-type {\n",
       "        vertical-align: middle;\n",
       "    }\n",
       "\n",
       "    .dataframe tbody tr th {\n",
       "        vertical-align: top;\n",
       "    }\n",
       "\n",
       "    .dataframe thead th {\n",
       "        text-align: right;\n",
       "    }\n",
       "</style>\n",
       "<table border=\"1\" class=\"dataframe\">\n",
       "  <thead>\n",
       "    <tr style=\"text-align: right;\">\n",
       "      <th></th>\n",
       "      <th>sepal length (cm)</th>\n",
       "      <th>sepal width (cm)</th>\n",
       "      <th>petal length (cm)</th>\n",
       "      <th>petal width (cm)</th>\n",
       "    </tr>\n",
       "  </thead>\n",
       "  <tbody>\n",
       "    <tr>\n",
       "      <th>0</th>\n",
       "      <td>5.1</td>\n",
       "      <td>3.5</td>\n",
       "      <td>1.4</td>\n",
       "      <td>0.2</td>\n",
       "    </tr>\n",
       "    <tr>\n",
       "      <th>1</th>\n",
       "      <td>4.9</td>\n",
       "      <td>3.0</td>\n",
       "      <td>1.4</td>\n",
       "      <td>0.2</td>\n",
       "    </tr>\n",
       "    <tr>\n",
       "      <th>2</th>\n",
       "      <td>4.7</td>\n",
       "      <td>3.2</td>\n",
       "      <td>1.3</td>\n",
       "      <td>0.2</td>\n",
       "    </tr>\n",
       "    <tr>\n",
       "      <th>3</th>\n",
       "      <td>4.6</td>\n",
       "      <td>3.1</td>\n",
       "      <td>1.5</td>\n",
       "      <td>0.2</td>\n",
       "    </tr>\n",
       "    <tr>\n",
       "      <th>4</th>\n",
       "      <td>5.0</td>\n",
       "      <td>3.6</td>\n",
       "      <td>1.4</td>\n",
       "      <td>0.2</td>\n",
       "    </tr>\n",
       "  </tbody>\n",
       "</table>\n",
       "</div>"
      ],
      "text/plain": [
       "   sepal length (cm)  sepal width (cm)  petal length (cm)  petal width (cm)\n",
       "0                5.1               3.5                1.4               0.2\n",
       "1                4.9               3.0                1.4               0.2\n",
       "2                4.7               3.2                1.3               0.2\n",
       "3                4.6               3.1                1.5               0.2\n",
       "4                5.0               3.6                1.4               0.2"
      ]
     },
     "execution_count": 7,
     "metadata": {},
     "output_type": "execute_result"
    }
   ],
   "source": [
    "iris_df.head()"
   ]
  },
  {
   "cell_type": "code",
   "execution_count": 8,
   "id": "56099d5c-7ef6-4b09-9284-19e9fe7226e9",
   "metadata": {},
   "outputs": [
    {
     "name": "stdout",
     "output_type": "stream",
     "text": [
      "<class 'pandas.core.frame.DataFrame'>\n",
      "RangeIndex: 150 entries, 0 to 149\n",
      "Data columns (total 4 columns):\n",
      " #   Column             Non-Null Count  Dtype  \n",
      "---  ------             --------------  -----  \n",
      " 0   sepal length (cm)  150 non-null    float64\n",
      " 1   sepal width (cm)   150 non-null    float64\n",
      " 2   petal length (cm)  150 non-null    float64\n",
      " 3   petal width (cm)   150 non-null    float64\n",
      "dtypes: float64(4)\n",
      "memory usage: 4.8 KB\n"
     ]
    }
   ],
   "source": [
    "iris_df.info()"
   ]
  },
  {
   "cell_type": "code",
   "execution_count": 9,
   "id": "5711c637-8ef5-4f18-85c8-454ec4ecffc6",
   "metadata": {},
   "outputs": [],
   "source": [
    "iris_target = pd.DataFrame(data=iris.target)"
   ]
  },
  {
   "cell_type": "code",
   "execution_count": 10,
   "id": "7359ede6-9a2a-46b2-9df4-bad6220b3739",
   "metadata": {},
   "outputs": [
    {
     "data": {
      "text/plain": [
       "(150, 1)"
      ]
     },
     "execution_count": 10,
     "metadata": {},
     "output_type": "execute_result"
    }
   ],
   "source": [
    "iris_target.shape"
   ]
  },
  {
   "cell_type": "code",
   "execution_count": 11,
   "id": "df2bb356-0b4e-4339-9f5d-45533f298d5f",
   "metadata": {},
   "outputs": [
    {
     "data": {
      "text/plain": [
       "(array([50.,  3., 34., 47., 16.]),\n",
       " array([1.  , 2.18, 3.36, 4.54, 5.72, 6.9 ]),\n",
       " <BarContainer object of 5 artists>)"
      ]
     },
     "execution_count": 11,
     "metadata": {},
     "output_type": "execute_result"
    },
    {
     "data": {
      "image/png": "[encoded data removed]",
      "text/plain": [
       "<Figure size 640x480 with 1 Axes>"
      ]
     },
     "metadata": {},
     "output_type": "display_data"
    }
   ],
   "source": [
    "plt.hist(iris_df[[\"petal length (cm)\"]], bins=5)"
   ]
  },
  {
   "cell_type": "markdown",
   "id": "1c693962-6ba9-454c-8671-1d639e109a2d",
   "metadata": {},
   "source": [
    "## Main Ideas behind probability distributions"
   ]
  },
  {
   "cell_type": "markdown",
   "id": "9dc93ac4-3106-4f49-8ca0-a5282081a4bf",
   "metadata": {},
   "source": [
    "### What a distribution is ?"
   ]
  },
  {
   "cell_type": "markdown",
   "id": "866ea00c-3175-44c6-87fc-eeb003ad9ec8",
   "metadata": {},
   "source": [
    "It tells us how the data points are distributed\n",
    "We can also draw a curve over the historgram to determine the probability of the specific area\n",
    "They also show us how the probabilities of the measurements are built\n",
    "Normal Distribution is one of the types of distributions"
   ]
  },
  {
   "cell_type": "code",
   "execution_count": 12,
   "id": "e485023d-03b6-49ed-8751-0980dec4ba8a",
   "metadata": {},
   "outputs": [],
   "source": [
    "normal_dist_x = np.random.normal(0, 1, 1000)\n",
    "mu, sigma = 0, 1"
   ]
  },
  {
   "cell_type": "markdown",
   "id": "50139998-f154-44eb-a7f9-6895b53e4b87",
   "metadata": {},
   "source": [
    "![Image](https://drive.google.com/open?id=16-3OKAxGMIXINBwcTcZYVOAPuGPuvRld&usp=drive_fs)"
   ]
  },
  {
   "cell_type": "code",
   "execution_count": 13,
   "id": "2681055b-8958-4e2a-9627-20924929474c",
   "metadata": {},
   "outputs": [
    {
     "data": {
      "text/plain": [
       "[<matplotlib.lines.Line2D at 0x1bc418cdea0>]"
      ]
     },
     "execution_count": 13,
     "metadata": {},
     "output_type": "execute_result"
    },
    {
     "data": {
      "image/png": "[encoded data removed]",
      "text/plain": [
       "<Figure size 640x480 with 1 Axes>"
      ]
     },
     "metadata": {},
     "output_type": "display_data"
    }
   ],
   "source": [
    "count, bins, ignored = plt.hist(normal_dist_x, 30, density=True)\n",
    "plt.plot(bins, 1/(sigma * np.sqrt(2 * np.pi)) *\n",
    "               np.exp( - (bins - mu)**2 / (2 * sigma**2) ),\n",
    "         linewidth=2, color='r')"
   ]
  },
  {
   "cell_type": "markdown",
   "id": "6216dce6-7eeb-4e1d-a8ba-d1ec2ae62624",
   "metadata": {},
   "source": [
    "**Examples of Normal Distribution**\n",
    "1. Height of the people (Very shortest and Very longest persons are rare across the population)\n",
    "2. Wealth of the people in the country\n",
    "\n",
    "**The below image show the how the spread of the graph is changing based on the SD**"
   ]
  },
  {
   "cell_type": "markdown",
   "id": "1514af55-6fbf-4671-8245-f8e081a0a8bf",
   "metadata": {},
   "source": [
    "<div>\n",
    "    <img src=\"https://media.istockphoto.com/id/590277242/vector/gaussian-normal-distribution.jpg?s=612x612&w=0&k=20&c=yKn9C3UKuzAkOYuKPUp5CHl8fmyXn7mlYaD62NZtidY=\" />\n",
    "</div>"
   ]
  },
  {
   "cell_type": "markdown",
   "id": "677449f6-fd28-4df4-8fb4-893087c71e9a",
   "metadata": {},
   "source": [
    "The mean, median & mode will be the same if the data is normally distributed"
   ]
  },
  {
   "cell_type": "code",
   "execution_count": 22,
   "id": "e8e85538-717f-4095-9603-cc45d94b4f0d",
   "metadata": {},
   "outputs": [
    {
     "name": "stdout",
     "output_type": "stream",
     "text": [
      "Mean -0.0238801064407319\n",
      "Mode ModeResult(mode=np.float64(-3.1937418968340583), count=np.int64(1))\n",
      "Median -0.037426138734742126\n"
     ]
    }
   ],
   "source": [
    "sample_norm_values = np.random.normal(0, 1, 1000)\n",
    "print(\"Mean\", sample_norm_values.mean())\n",
    "print(\"Mode\", stats.mode(sample_norm_values))\n",
    "print(\"Median\", np.median(sample_norm_values))"
   ]
  },
  {
   "cell_type": "markdown",
   "id": "d0b9a50c-d704-4216-be51-c1fa7a2c46bd",
   "metadata": {},
   "source": [
    "## Population Parameters"
   ]
  },
  {
   "cell_type": "markdown",
   "id": "a9430acc-4370-4d79-8068-fe1dcf47d4ce",
   "metadata": {},
   "source": [
    "The population parameters are something that helps us in fitting the linear distribution\n",
    "In case of normal distribution, thats Mean and SD that determines the nature of the curve\n",
    "\n",
    "1. Most of the time, we used to estimate the mean and standard deviation instead of calculating the overall population mean and population standard deviation\n",
    "2. The effort is larger to calculate the mean or standard deviation for the entire population\n",
    "3. The sample mean & SD will be accurate if the size is more\n",
    "4. The p-value and confidence interval says how the mean/SD are accurate"
   ]
  },
  {
   "cell_type": "markdown",
   "id": "232a48f0-a476-46de-9b25-e483405fd9d9",
   "metadata": {},
   "source": [
    "## Calculating Mean, Variance & Standard Deviation"
   ]
  },
  {
   "cell_type": "markdown",
   "id": "a84ed488-1579-427c-928d-66b08a7a87bd",
   "metadata": {},
   "source": [
    "### Mean"
   ]
  },
  {
   "cell_type": "markdown",
   "id": "74648eac-4e2b-452d-9b72-09d5c797d5c8",
   "metadata": {},
   "source": [
    "The mean is calculated by adding all the observations and dividing it by the total number of observations"
   ]
  },
  {
   "cell_type": "code",
   "execution_count": 25,
   "id": "2d6a9038-61ea-487d-8a61-d3383f7e680c",
   "metadata": {},
   "outputs": [
    {
     "data": {
      "text/plain": [
       "np.float64(50.0)"
      ]
     },
     "execution_count": 25,
     "metadata": {},
     "output_type": "execute_result"
    }
   ],
   "source": [
    "mean_obs = np.arange(1, 100, 1)\n",
    "mean_obs.mean()"
   ]
  },
  {
   "cell_type": "markdown",
   "id": "83c59f93-a91c-4eb2-bce3-92dd14694d3b",
   "metadata": {},
   "source": [
    "### Variance"
   ]
  },
  {
   "cell_type": "markdown",
   "id": "109524aa-ff19-49c2-a69c-5382163125a1",
   "metadata": {},
   "source": [
    "The variance formula is\n",
    "<div>\n",
    "    <img src=\"data:image/jpeg;base64,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\" />\n",
    "</div>"
   ]
  },
  {
   "cell_type": "markdown",
   "id": "6cac34e3-16f0-498c-94ff-d52bb1e13728",
   "metadata": {},
   "source": [
    "**Why dividing by n underestimates the variance(Sample Variance) ?**\n",
    "1. The division by n will give us lesser variance compared to the population mean\n",
    "2. This is because, the differences between the data and the sample mean tend to be smaller than the differences between the data and the population mean"
   ]
  },
  {
   "cell_type": "code",
   "execution_count": 47,
   "id": "c8f4712e-54c2-404f-801f-dd5d7cb6b801",
   "metadata": {},
   "outputs": [
    {
     "data": {
      "text/plain": [
       "np.float64(501.0775862068967)"
      ]
     },
     "execution_count": 47,
     "metadata": {},
     "output_type": "execute_result"
    }
   ],
   "source": [
    "heights = np.linspace(100, 175, 30)\n",
    "np.var(heights)"
   ]
  },
  {
   "cell_type": "markdown",
   "id": "57634458-42f1-4123-8e3a-04d404ea7b12",
   "metadata": {},
   "source": [
    "Since we are squaring the differences, the value of the variances will be a lot higher\n",
    "1. The squaring is applied because, the differences should not be cancelled on each other\n",
    "2. Hence, the square root of the variance is taken which is Standard Deviation of the observations"
   ]
  },
  {
   "cell_type": "markdown",
   "id": "c734bc81-2d39-4ae9-b18a-a8ab6484ea1a",
   "metadata": {},
   "source": [
    "### Standard Deviation"
   ]
  },
  {
   "cell_type": "markdown",
   "id": "d4cdf994-98e6-4278-b429-75fe0a16c898",
   "metadata": {},
   "source": [
    "<div>\n",
    "    <img src=\"data:image/png;base64,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\" />\n",
    "</div>"
   ]
  },
  {
   "cell_type": "code",
   "execution_count": 50,
   "id": "a21071f1-5a7f-4064-bd32-2f5e587f225b",
   "metadata": {},
   "outputs": [
    {
     "data": {
      "text/plain": [
       "np.float64(22.384762366549634)"
      ]
     },
     "execution_count": 50,
     "metadata": {},
     "output_type": "execute_result"
    }
   ],
   "source": [
    "np.std(heights)"
   ]
  },
  {
   "cell_type": "markdown",
   "id": "bc13be3a-cc55-40db-93c9-defb507c7965",
   "metadata": {},
   "source": [
    "### Summary\n",
    "Most of the time, we never calculate the population mean, variance & standard deviation instead we **estimate** them"
   ]
  },
  {
   "cell_type": "markdown",
   "id": "8fc71eb1-72b9-4fcd-ade0-5bbdf8c1a8fd",
   "metadata": {},
   "source": [
    "## What is Model ?"
   ]
  },
  {
   "cell_type": "markdown",
   "id": "8652b25a-e123-4f49-9380-cbba520a82eb",
   "metadata": {},
   "source": [
    "1. We use models to explore relationships\n",
    "2. These are just an equations/relationship between the variables\n",
    "3. We use statistics to determine how useful and reliable our model is"
   ]
  },
  {
   "cell_type": "markdown",
   "id": "9f0672af-f524-4b59-b7d0-1127305b6173",
   "metadata": {},
   "source": [
    "## Sampling a distribution"
   ]
  },
  {
   "cell_type": "markdown",
   "id": "79c60022-614b-427f-b0a3-26923f30635c",
   "metadata": {},
   "source": [
    "This is also known as getting a sample from the distribution"
   ]
  },
  {
   "cell_type": "markdown",
   "id": "c6fde63c-e63e-473b-b78b-864c2dc72b45",
   "metadata": {},
   "source": [
    "## Hypothesis Testing"
   ]
  },
  {
   "cell_type": "markdown",
   "id": "2cc4c997-5d15-4fb0-8e1e-f96aa28798b4",
   "metadata": {},
   "source": [
    "Hypothesis testing are used to see If the new intitiative in the business is effective or not"
   ]
  },
  {
   "cell_type": "code",
   "execution_count": null,
   "id": "a0bddeef-ec9b-4711-b64d-14fafc0fcede",
   "metadata": {},
   "outputs": [],
   "source": []
  }
 ],
 "metadata": {
  "kernelspec": {
   "display_name": "Python 3 (ipykernel)",
   "language": "python",
   "name": "python3"
  },
  "language_info": {
   "codemirror_mode": {
    "name": "ipython",
    "version": 3
   },
   "file_extension": ".py",
   "mimetype": "text/x-python",
   "name": "python",
   "nbconvert_exporter": "python",
   "pygments_lexer": "ipython3",
   "version": "3.10.0"
  }
 },
 "nbformat": 4,
 "nbformat_minor": 5
}
