{
 "cells": [
  {
   "cell_type": "markdown",
   "id": "39bbc187-8b7e-4852-bf14-d551dcc5f52f",
   "metadata": {
    "jp-MarkdownHeadingCollapsed": true
   },
   "source": [
    "#### Basic functions"
   ]
  },
  {
   "cell_type": "code",
   "execution_count": 1,
   "id": "ba10d49b-73bc-4947-a5ab-71ae98d7e993",
   "metadata": {},
   "outputs": [],
   "source": [
    "import numpy as np"
   ]
  },
  {
   "cell_type": "code",
   "execution_count": 6,
   "id": "7ecb2110-99c8-4e3d-b46a-d427b7b86cbf",
   "metadata": {},
   "outputs": [],
   "source": [
    "numbers = np.array([1,2,3,4])"
   ]
  },
  {
   "cell_type": "code",
   "execution_count": 8,
   "id": "e8cdd464-911c-4231-aeba-e8671a2239ba",
   "metadata": {},
   "outputs": [
    {
     "data": {
      "text/plain": [
       "(4,)"
      ]
     },
     "execution_count": 8,
     "metadata": {},
     "output_type": "execute_result"
    }
   ],
   "source": [
    "numbers.shape"
   ]
  },
  {
   "cell_type": "code",
   "execution_count": 9,
   "id": "cd14382f-5b62-4363-bf1a-8c73baaabb88",
   "metadata": {},
   "outputs": [
    {
     "data": {
      "text/plain": [
       "4"
      ]
     },
     "execution_count": 9,
     "metadata": {},
     "output_type": "execute_result"
    }
   ],
   "source": [
    "numbers.size"
   ]
  },
  {
   "cell_type": "code",
   "execution_count": 12,
   "id": "a3e3131e-7c26-4958-8ecc-5111b46037b7",
   "metadata": {},
   "outputs": [
    {
     "data": {
      "text/plain": [
       "1"
      ]
     },
     "execution_count": 12,
     "metadata": {},
     "output_type": "execute_result"
    }
   ],
   "source": [
    "numbers.ndim"
   ]
  },
  {
   "cell_type": "code",
   "execution_count": 13,
   "id": "59cadb1c-c594-4ca8-8f4e-0b6686685c7b",
   "metadata": {},
   "outputs": [
    {
     "data": {
      "text/plain": [
       "dtype('int64')"
      ]
     },
     "execution_count": 13,
     "metadata": {},
     "output_type": "execute_result"
    }
   ],
   "source": [
    "numbers.dtype"
   ]
  },
  {
   "cell_type": "code",
   "execution_count": 14,
   "id": "fca3e792-b053-43dc-aeed-d72f2a72f4bc",
   "metadata": {},
   "outputs": [
    {
     "data": {
      "text/plain": [
       "32"
      ]
     },
     "execution_count": 14,
     "metadata": {},
     "output_type": "execute_result"
    }
   ],
   "source": [
    "numbers.nbytes"
   ]
  },
  {
   "cell_type": "markdown",
   "id": "58139b34-ccc7-4860-a934-222829c1b473",
   "metadata": {
    "jp-MarkdownHeadingCollapsed": true
   },
   "source": [
    "#### Create Array along with its Datatype"
   ]
  },
  {
   "cell_type": "code",
   "execution_count": 23,
   "id": "8bac9132-b0a2-4d21-bee8-8bbdd82f7e70",
   "metadata": {},
   "outputs": [
    {
     "data": {
      "text/plain": [
       "dtype('complex128')"
      ]
     },
     "execution_count": 23,
     "metadata": {},
     "output_type": "execute_result"
    }
   ],
   "source": [
    "nums_wo_dt = np.array([1, 4.678, 0+9j])\n",
    "nums_wo_dt.dtype"
   ]
  },
  {
   "cell_type": "code",
   "execution_count": 11,
   "id": "42e8fb80-a58c-4bc2-90b7-1b6bf5fd29e1",
   "metadata": {},
   "outputs": [],
   "source": [
    "integers = np.array([1,2,3,4,5.7], dtype=np.int32)"
   ]
  },
  {
   "cell_type": "code",
   "execution_count": 12,
   "id": "35000ca7-08ae-4c18-a156-f20f6fe3c917",
   "metadata": {},
   "outputs": [
    {
     "data": {
      "text/plain": [
       "array([1, 2, 3, 4, 5], dtype=int32)"
      ]
     },
     "execution_count": 12,
     "metadata": {},
     "output_type": "execute_result"
    }
   ],
   "source": [
    "integers"
   ]
  },
  {
   "cell_type": "markdown",
   "id": "ea568079-6667-4c75-a8b2-7c80cd28b742",
   "metadata": {},
   "source": [
    "###### Modify Datatype from the already existing array"
   ]
  },
  {
   "cell_type": "code",
   "execution_count": 14,
   "id": "78fa1902-a4df-462e-982a-c0004b9b0369",
   "metadata": {},
   "outputs": [],
   "source": [
    "floats = np.array(integers, dtype=np.float32)"
   ]
  },
  {
   "cell_type": "code",
   "execution_count": 15,
   "id": "7f165b94-c0ad-4158-827d-30dfd5e9b600",
   "metadata": {},
   "outputs": [
    {
     "data": {
      "text/plain": [
       "array([1., 2., 3., 4., 5.], dtype=float32)"
      ]
     },
     "execution_count": 15,
     "metadata": {},
     "output_type": "execute_result"
    }
   ],
   "source": [
    "floats"
   ]
  },
  {
   "cell_type": "code",
   "execution_count": 16,
   "id": "7f35a93d-5ddf-4f11-9f8b-88c7d80a4ffe",
   "metadata": {},
   "outputs": [],
   "source": [
    "floats_u_ndarr = integers.astype(np.complex64)"
   ]
  },
  {
   "cell_type": "code",
   "execution_count": 17,
   "id": "c33479c1-6172-4850-8df2-51c0e7e57071",
   "metadata": {},
   "outputs": [
    {
     "data": {
      "text/plain": [
       "array([1.+0.j, 2.+0.j, 3.+0.j, 4.+0.j, 5.+0.j], dtype=complex64)"
      ]
     },
     "execution_count": 17,
     "metadata": {},
     "output_type": "execute_result"
    }
   ],
   "source": [
    "floats_u_ndarr"
   ]
  },
  {
   "cell_type": "markdown",
   "id": "3061384a-d513-41d5-89b4-4330d55e80af",
   "metadata": {},
   "source": [
    "##### Implicit Conversion"
   ]
  },
  {
   "cell_type": "code",
   "execution_count": 18,
   "id": "78d0b14b-1281-43c1-a090-1c75f477f3b0",
   "metadata": {},
   "outputs": [],
   "source": [
    "salary = np.array([25, 30, 45, 70], dtype=np.int32)\n",
    "deds = np.array([1.2, 3.5, 4.7, 9.1], dtype=np.float32)\n",
    "gross = salary - deds"
   ]
  },
  {
   "cell_type": "code",
   "execution_count": 20,
   "id": "7bcbf9d5-aa67-4062-ad37-a11eb366ff8b",
   "metadata": {},
   "outputs": [
    {
     "data": {
      "text/plain": [
       "dtype('float64')"
      ]
     },
     "execution_count": 20,
     "metadata": {},
     "output_type": "execute_result"
    }
   ],
   "source": [
    "gross\n",
    "gross.dtype"
   ]
  },
  {
   "cell_type": "markdown",
   "id": "8e64f2c9-b00d-4265-b620-fdfe923cd68e",
   "metadata": {},
   "source": [
    "###### Explicit Conversion"
   ]
  },
  {
   "cell_type": "markdown",
   "id": "2e84714f-b856-420f-838c-be9433728a92",
   "metadata": {},
   "source": [
    "np.sqrt(np.array([-1, 0, 1]))\n",
    "This results in error"
   ]
  },
  {
   "cell_type": "code",
   "execution_count": 25,
   "id": "3021a4ad-309d-4cf4-9a97-d74548b655cc",
   "metadata": {},
   "outputs": [
    {
     "data": {
      "text/plain": [
       "array([0.+1.j, 0.+0.j, 1.+0.j], dtype=complex64)"
      ]
     },
     "execution_count": 25,
     "metadata": {},
     "output_type": "execute_result"
    }
   ],
   "source": [
    "np.sqrt(np.array([-1, 0, 1], dtype=np.complex64))"
   ]
  },
  {
   "cell_type": "markdown",
   "id": "eac096df-d7f2-4d7c-a041-61c2dab009f8",
   "metadata": {
    "jp-MarkdownHeadingCollapsed": true
   },
   "source": [
    "#### In-Memory Layout of an Array"
   ]
  },
  {
   "cell_type": "code",
   "execution_count": 29,
   "id": "1c691157-c1e0-4ebb-99f6-f70577b51395",
   "metadata": {},
   "outputs": [],
   "source": [
    "real_numbers = np.array([[1,2,3],[4,5,6]])"
   ]
  },
  {
   "cell_type": "code",
   "execution_count": 30,
   "id": "4cde09a3-9ae3-4cc1-b786-e98996c22af7",
   "metadata": {},
   "outputs": [
    {
     "data": {
      "text/plain": [
       "dtype('int64')"
      ]
     },
     "execution_count": 30,
     "metadata": {},
     "output_type": "execute_result"
    }
   ],
   "source": [
    "real_numbers.dtype"
   ]
  },
  {
   "cell_type": "code",
   "execution_count": 31,
   "id": "761d718f-2c99-4b1f-a43e-232fed31fb01",
   "metadata": {},
   "outputs": [
    {
     "data": {
      "text/plain": [
       "(24, 8)"
      ]
     },
     "execution_count": 31,
     "metadata": {},
     "output_type": "execute_result"
    }
   ],
   "source": [
    "real_numbers.strides"
   ]
  },
  {
   "cell_type": "code",
   "execution_count": 37,
   "id": "7de4908a-b376-4c92-9742-9e267793c041",
   "metadata": {},
   "outputs": [],
   "source": [
    "c_order = np.array([[21, 24, 6],[30, 12, 17]], order='c')"
   ]
  },
  {
   "cell_type": "code",
   "execution_count": 38,
   "id": "dc4fcb8d-2f4b-47ca-93f1-13a7b301748d",
   "metadata": {},
   "outputs": [
    {
     "data": {
      "text/plain": [
       "(24, 8)"
      ]
     },
     "execution_count": 38,
     "metadata": {},
     "output_type": "execute_result"
    }
   ],
   "source": [
    "c_order.strides"
   ]
  },
  {
   "cell_type": "code",
   "execution_count": 40,
   "id": "4238a679-f043-440a-b50c-5c3721c1ac4b",
   "metadata": {},
   "outputs": [],
   "source": [
    "f_order = np.array(c_order, order='F')"
   ]
  },
  {
   "cell_type": "code",
   "execution_count": 41,
   "id": "816bd0e1-65e4-4301-878d-a363dec5b3f2",
   "metadata": {},
   "outputs": [
    {
     "data": {
      "text/plain": [
       "(8, 16)"
      ]
     },
     "execution_count": 41,
     "metadata": {},
     "output_type": "execute_result"
    }
   ],
   "source": [
    "f_order.strides"
   ]
  },
  {
   "cell_type": "markdown",
   "id": "48943116-47cf-4119-bd83-ba6277410066",
   "metadata": {},
   "source": [
    "#### Array Functions"
   ]
  },
  {
   "cell_type": "markdown",
   "id": "74b3b84a-f64d-48bb-a20e-e233c0f7ded4",
   "metadata": {},
   "source": [
    "##### Creating an Array - np.array"
   ]
  },
  {
   "cell_type": "code",
   "execution_count": 42,
   "id": "07c3bf47-acdc-4215-957c-37649147eda5",
   "metadata": {},
   "outputs": [],
   "source": [
    "dobs = np.array((21, 24, 6))"
   ]
  },
  {
   "cell_type": "code",
   "execution_count": 43,
   "id": "d81830b5-6e28-4104-af1f-7c9031651747",
   "metadata": {},
   "outputs": [
    {
     "data": {
      "text/plain": [
       "array([21, 24,  6])"
      ]
     },
     "execution_count": 43,
     "metadata": {},
     "output_type": "execute_result"
    }
   ],
   "source": [
    "dobs"
   ]
  },
  {
   "cell_type": "markdown",
   "id": "d039bf77-47b2-4a94-a79c-034246ac3e1a",
   "metadata": {},
   "source": [
    "##### Zeros"
   ]
  },
  {
   "cell_type": "code",
   "execution_count": 50,
   "id": "1d56ce28-485a-4237-b917-2f0592fb5b6c",
   "metadata": {},
   "outputs": [],
   "source": [
    "zeros = np.zeros((5,5), dtype=np.int32)"
   ]
  },
  {
   "cell_type": "code",
   "execution_count": 51,
   "id": "d5e93282-27b3-4efd-b903-2f6d12cc9e21",
   "metadata": {},
   "outputs": [
    {
     "data": {
      "text/plain": [
       "array([[0, 0, 0, 0, 0],\n",
       "       [0, 0, 0, 0, 0],\n",
       "       [0, 0, 0, 0, 0],\n",
       "       [0, 0, 0, 0, 0],\n",
       "       [0, 0, 0, 0, 0]], dtype=int32)"
      ]
     },
     "execution_count": 51,
     "metadata": {},
     "output_type": "execute_result"
    }
   ],
   "source": [
    "zeros"
   ]
  },
  {
   "cell_type": "markdown",
   "id": "c1dc5e2d-8c41-4c3e-b72b-57c7107be90a",
   "metadata": {},
   "source": [
    "##### Ones"
   ]
  },
  {
   "cell_type": "code",
   "execution_count": 52,
   "id": "f9db4899-f739-4e9d-9205-08ad9a362b11",
   "metadata": {},
   "outputs": [],
   "source": [
    "ones = np.ones((2,4), dtype=np.float32)"
   ]
  },
  {
   "cell_type": "code",
   "execution_count": 54,
   "id": "3ca02568-f2c7-426a-9d98-ac7092240e1f",
   "metadata": {},
   "outputs": [
    {
     "data": {
      "text/plain": [
       "array([[1., 1., 1., 1.],\n",
       "       [1., 1., 1., 1.]], dtype=float32)"
      ]
     },
     "execution_count": 54,
     "metadata": {},
     "output_type": "execute_result"
    }
   ],
   "source": [
    "ones"
   ]
  },
  {
   "cell_type": "markdown",
   "id": "334ed9ab-bbb2-4fcb-82e9-0e11683c6b81",
   "metadata": {},
   "source": [
    "##### Diagonal"
   ]
  },
  {
   "cell_type": "markdown",
   "id": "5c013644-cdfd-4e40-8382-ca2c19764b36",
   "metadata": {},
   "source": [
    "###### Case I - Give a square matrix and determine the diagonal elements"
   ]
  },
  {
   "cell_type": "code",
   "execution_count": 77,
   "id": "97e6218e-8cd3-4315-b8ad-d441665570e7",
   "metadata": {},
   "outputs": [],
   "source": [
    "diags = np.diag(((2,5,7),(12, 16, 18),(19,20, 21)), k=0)"
   ]
  },
  {
   "cell_type": "code",
   "execution_count": 78,
   "id": "3cb89367-2bbf-439a-991b-c4d6b54c404a",
   "metadata": {},
   "outputs": [
    {
     "data": {
      "text/plain": [
       "array([ 2, 16, 21])"
      ]
     },
     "execution_count": 78,
     "metadata": {},
     "output_type": "execute_result"
    }
   ],
   "source": [
    "diags"
   ]
  },
  {
   "cell_type": "markdown",
   "id": "e24e55c9-ba8c-475a-9d54-0306d2ce5b46",
   "metadata": {},
   "source": [
    "###### Case II - Give set of diagonal elements"
   ]
  },
  {
   "cell_type": "code",
   "execution_count": 81,
   "id": "723a4adf-d74e-423b-87b9-ff8cc96ad04f",
   "metadata": {},
   "outputs": [],
   "source": [
    "diags2 = np.diag((1,2,3))"
   ]
  },
  {
   "cell_type": "code",
   "execution_count": 82,
   "id": "fe216ede-9d8f-4078-8243-b9e9f43317f6",
   "metadata": {},
   "outputs": [
    {
     "data": {
      "text/plain": [
       "array([[1, 0, 0],\n",
       "       [0, 2, 0],\n",
       "       [0, 0, 3]])"
      ]
     },
     "execution_count": 82,
     "metadata": {},
     "output_type": "execute_result"
    }
   ],
   "source": [
    "diags2"
   ]
  },
  {
   "cell_type": "markdown",
   "id": "01d1b5b3-5b62-4f44-9927-f0451c9d845a",
   "metadata": {},
   "source": [
    "##### Arange function"
   ]
  },
  {
   "cell_type": "code",
   "execution_count": 88,
   "id": "d519337f-0031-49fa-9b46-522dba15f8f8",
   "metadata": {},
   "outputs": [],
   "source": [
    "even_nos = np.arange(0, 10, 2)"
   ]
  },
  {
   "cell_type": "code",
   "execution_count": 89,
   "id": "76eb0f6b-ede9-4d5b-b72a-4870c3496290",
   "metadata": {},
   "outputs": [
    {
     "data": {
      "text/plain": [
       "array([0, 2, 4, 6, 8])"
      ]
     },
     "execution_count": 89,
     "metadata": {},
     "output_type": "execute_result"
    }
   ],
   "source": [
    "even_nos"
   ]
  },
  {
   "cell_type": "markdown",
   "id": "e645a153-8e1a-49f4-8283-3663002fbcd9",
   "metadata": {},
   "source": [
    "##### Linspace()"
   ]
  },
  {
   "cell_type": "code",
   "execution_count": 96,
   "id": "0a86abca-076e-4983-914a-c3ec5815a388",
   "metadata": {},
   "outputs": [],
   "source": [
    "elements = np.linspace(1, 10, 20)"
   ]
  },
  {
   "cell_type": "code",
   "execution_count": 97,
   "id": "d5e6f611-61b7-4de0-912d-56658eb3494e",
   "metadata": {},
   "outputs": [
    {
     "data": {
      "text/plain": [
       "array([ 1.        ,  1.47368421,  1.94736842,  2.42105263,  2.89473684,\n",
       "        3.36842105,  3.84210526,  4.31578947,  4.78947368,  5.26315789,\n",
       "        5.73684211,  6.21052632,  6.68421053,  7.15789474,  7.63157895,\n",
       "        8.10526316,  8.57894737,  9.05263158,  9.52631579, 10.        ])"
      ]
     },
     "execution_count": 97,
     "metadata": {},
     "output_type": "execute_result"
    }
   ],
   "source": [
    "elements"
   ]
  },
  {
   "cell_type": "markdown",
   "id": "66b740d3-7ce0-4510-91f7-400581850f31",
   "metadata": {},
   "source": [
    "##### Logspace()"
   ]
  },
  {
   "cell_type": "code",
   "execution_count": 108,
   "id": "78d7c1b4-a93b-4612-88b9-a8b6f3a40df5",
   "metadata": {},
   "outputs": [],
   "source": [
    "logs = np.logspace(2, 4, 3)"
   ]
  },
  {
   "cell_type": "code",
   "execution_count": 109,
   "id": "b0194fd8-1c75-4090-802b-c4a4f634d0ae",
   "metadata": {},
   "outputs": [
    {
     "data": {
      "text/plain": [
       "array([  100.,  1000., 10000.])"
      ]
     },
     "execution_count": 109,
     "metadata": {},
     "output_type": "execute_result"
    }
   ],
   "source": [
    "logs"
   ]
  },
  {
   "cell_type": "markdown",
   "id": "cea8e17a-eda5-4992-bd1e-c77ff6615945",
   "metadata": {},
   "source": [
    "##### Meshgrid"
   ]
  },
  {
   "cell_type": "code",
   "execution_count": 117,
   "id": "84274b20-9138-4b3a-826b-1d1d79d50426",
   "metadata": {},
   "outputs": [],
   "source": [
    "x = np.array([-1, 0, 1, 2, 3])\n",
    "y = np.array([-2, 0, 2, 3])\n",
    "X, Y = np.meshgrid(x, y)"
   ]
  },
  {
   "cell_type": "code",
   "execution_count": 118,
   "id": "4c8c5c58-e47c-4e21-9b22-7b07bccbdc02",
   "metadata": {},
   "outputs": [
    {
     "data": {
      "text/plain": [
       "array([[-1,  0,  1,  2,  3],\n",
       "       [-1,  0,  1,  2,  3],\n",
       "       [-1,  0,  1,  2,  3],\n",
       "       [-1,  0,  1,  2,  3]])"
      ]
     },
     "execution_count": 118,
     "metadata": {},
     "output_type": "execute_result"
    }
   ],
   "source": [
    "X"
   ]
  },
  {
   "cell_type": "code",
   "execution_count": 119,
   "id": "75051c8d-907a-4e98-8482-640b4c517d6b",
   "metadata": {},
   "outputs": [
    {
     "data": {
      "text/plain": [
       "array([[-2, -2, -2, -2, -2],\n",
       "       [ 0,  0,  0,  0,  0],\n",
       "       [ 2,  2,  2,  2,  2],\n",
       "       [ 3,  3,  3,  3,  3]])"
      ]
     },
     "execution_count": 119,
     "metadata": {},
     "output_type": "execute_result"
    }
   ],
   "source": [
    "Y"
   ]
  },
  {
   "cell_type": "markdown",
   "id": "316a678f-aa9a-4029-b69b-318a100c59d4",
   "metadata": {},
   "source": [
    "##### FromFunction"
   ]
  },
  {
   "cell_type": "code",
   "execution_count": 123,
   "id": "fdc316f3-76d2-457c-bfa9-1b98a02f6549",
   "metadata": {},
   "outputs": [
    {
     "data": {
      "text/plain": [
       "array([0., 1., 4., 9.])"
      ]
     },
     "execution_count": 123,
     "metadata": {},
     "output_type": "execute_result"
    }
   ],
   "source": [
    "np.fromfunction(lambda x,: x ** 2, (4,))"
   ]
  },
  {
   "cell_type": "markdown",
   "id": "4c97f52d-789b-4ff2-ad73-77ced1198c6f",
   "metadata": {},
   "source": [
    "##### FromFile"
   ]
  },
  {
   "cell_type": "code",
   "execution_count": 136,
   "id": "60a18f6a-7e7a-43dc-83cd-db3654015c94",
   "metadata": {},
   "outputs": [
    {
     "data": {
      "text/plain": [
       "array([1, 2, 3, 4, 5], dtype=int32)"
      ]
     },
     "execution_count": 136,
     "metadata": {},
     "output_type": "execute_result"
    }
   ],
   "source": [
    "np.fromfile('array.txt', dtype=np.int32, count=5, sep=' ')"
   ]
  },
  {
   "cell_type": "markdown",
   "id": "6d6eafcc-f4d8-4afe-a665-59c6e3760aeb",
   "metadata": {},
   "source": [
    "##### Random"
   ]
  },
  {
   "cell_type": "code",
   "execution_count": 139,
   "id": "c4c98ab0-479a-4afb-b797-56816ed88c9b",
   "metadata": {},
   "outputs": [
    {
     "data": {
      "text/plain": [
       "array([0.19412662, 0.99200701, 0.14657964, 0.34974884, 0.81128648,\n",
       "       0.12172701, 0.42960477, 0.16728474, 0.00449669, 0.53261355])"
      ]
     },
     "execution_count": 139,
     "metadata": {},
     "output_type": "execute_result"
    }
   ],
   "source": [
    "np.random.rand(10)"
   ]
  },
  {
   "cell_type": "markdown",
   "id": "159e4354-1fd5-40d0-8bee-a7e1dc8c6c8f",
   "metadata": {},
   "source": [
    "##### Clone the array"
   ]
  },
  {
   "cell_type": "code",
   "execution_count": 140,
   "id": "88f8489d-a66c-436e-a8eb-050a05284631",
   "metadata": {},
   "outputs": [
    {
     "data": {
      "text/plain": [
       "array([[0, 0, 0, 0, 0],\n",
       "       [0, 0, 0, 0, 0],\n",
       "       [0, 0, 0, 0, 0],\n",
       "       [0, 0, 0, 0, 0]])"
      ]
     },
     "execution_count": 140,
     "metadata": {},
     "output_type": "execute_result"
    }
   ],
   "source": [
    "np.zeros_like(X)"
   ]
  },
  {
   "cell_type": "code",
   "execution_count": 141,
   "id": "00117b99-9083-468b-a331-d19c8d50541a",
   "metadata": {},
   "outputs": [
    {
     "data": {
      "text/plain": [
       "array([[1, 1, 1, 1, 1],\n",
       "       [1, 1, 1, 1, 1],\n",
       "       [1, 1, 1, 1, 1],\n",
       "       [1, 1, 1, 1, 1]])"
      ]
     },
     "execution_count": 141,
     "metadata": {},
     "output_type": "execute_result"
    }
   ],
   "source": [
    "np.ones_like(Y)"
   ]
  },
  {
   "cell_type": "code",
   "execution_count": 143,
   "id": "d03ffacf-6ba5-481b-95fd-a72794fb58fb",
   "metadata": {},
   "outputs": [
    {
     "data": {
      "text/plain": [
       "array([[7, 7, 7, 7, 7],\n",
       "       [7, 7, 7, 7, 7],\n",
       "       [7, 7, 7, 7, 7],\n",
       "       [7, 7, 7, 7, 7]])"
      ]
     },
     "execution_count": 143,
     "metadata": {},
     "output_type": "execute_result"
    }
   ],
   "source": [
    "np.full_like(X, fill_value=7)"
   ]
  },
  {
   "cell_type": "code",
   "execution_count": 144,
   "id": "5d74739f-267d-4f4f-b550-70399592b846",
   "metadata": {},
   "outputs": [
    {
     "data": {
      "text/plain": [
       "array([[     94530681264262,                   0, 6714925456705991712,\n",
       "        8314035377887258973, 2314885530447919717],\n",
       "       [                129,     139826899369184,     139826899369184,\n",
       "        4485090586606444554, 2318271146281693216],\n",
       "       [2318271001360017520, 2308703015708751143, 7309475736025309216,\n",
       "        2308703007372683048, 8079526168553857056],\n",
       "       [2318271146281693224, 2819301921996761383, 2314885436480631157,\n",
       "        2821616700296029216, 6715465179425354835]])"
      ]
     },
     "execution_count": 144,
     "metadata": {},
     "output_type": "execute_result"
    }
   ],
   "source": [
    "np.empty_like(X)"
   ]
  },
  {
   "cell_type": "code",
   "execution_count": 148,
   "id": "47d7e781-f93b-405f-887d-1de1799a9933",
   "metadata": {},
   "outputs": [],
   "source": [
    "matrix = np.matrix(X)"
   ]
  },
  {
   "cell_type": "code",
   "execution_count": 152,
   "id": "051c2967-925a-44ba-92be-905a4a371cb0",
   "metadata": {},
   "outputs": [
    {
     "data": {
      "text/plain": [
       "matrix([[3],\n",
       "        [3],\n",
       "        [3],\n",
       "        [3]])"
      ]
     },
     "execution_count": 152,
     "metadata": {},
     "output_type": "execute_result"
    }
   ],
   "source": [
    "matrix.max(1)"
   ]
  }
 ],
 "metadata": {
  "kernelspec": {
   "display_name": "Python 3 (ipykernel)",
   "language": "python",
   "name": "python3"
  },
  "language_info": {
   "codemirror_mode": {
    "name": "ipython",
    "version": 3
   },
   "file_extension": ".py",
   "mimetype": "text/x-python",
   "name": "python",
   "nbconvert_exporter": "python",
   "pygments_lexer": "ipython3",
   "version": "3.10.12"
  }
 },
 "nbformat": 4,
 "nbformat_minor": 5
}
