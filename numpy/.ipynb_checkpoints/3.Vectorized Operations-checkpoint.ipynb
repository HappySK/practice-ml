{
 "cells": [
  {
   "cell_type": "code",
   "execution_count": 1,
   "id": "a810c98e-c8cc-419e-9257-85133efb3444",
   "metadata": {},
   "outputs": [],
   "source": [
    "import numpy as np"
   ]
  },
  {
   "cell_type": "code",
   "execution_count": 2,
   "id": "9fbe874f-d566-4abc-b2f6-d0d6840f1060",
   "metadata": {},
   "outputs": [],
   "source": [
    "A = np.array([[1, 2, 3],[4, 5, 6]])"
   ]
  },
  {
   "cell_type": "code",
   "execution_count": 3,
   "id": "37b098c9-01f5-462a-bd74-e47c7b785b4d",
   "metadata": {},
   "outputs": [
    {
     "data": {
      "text/plain": [
       "array([[1, 2, 3],\n",
       "       [4, 5, 6]])"
      ]
     },
     "execution_count": 3,
     "metadata": {},
     "output_type": "execute_result"
    }
   ],
   "source": [
    "A"
   ]
  },
  {
   "cell_type": "code",
   "execution_count": 4,
   "id": "73e36da7-90e2-4719-a693-e32085ce54d5",
   "metadata": {},
   "outputs": [],
   "source": [
    "B = np.array([[10, 20, 30],[40, 50, 60]])"
   ]
  },
  {
   "cell_type": "code",
   "execution_count": 5,
   "id": "8cd65dcb-c0f6-458a-8a66-08ea419979c7",
   "metadata": {},
   "outputs": [
    {
     "data": {
      "text/plain": [
       "array([[11, 22, 33],\n",
       "       [44, 55, 66]])"
      ]
     },
     "execution_count": 5,
     "metadata": {},
     "output_type": "execute_result"
    }
   ],
   "source": [
    "A + B"
   ]
  },
  {
   "cell_type": "code",
   "execution_count": 6,
   "id": "d8512c84-039e-4de1-8598-04538e386370",
   "metadata": {},
   "outputs": [],
   "source": [
    "A += A"
   ]
  },
  {
   "cell_type": "code",
   "execution_count": 7,
   "id": "b58916db-b3ce-484e-8fc6-7c2cc75aecf4",
   "metadata": {},
   "outputs": [
    {
     "data": {
      "text/plain": [
       "array([[ 2,  4,  6],\n",
       "       [ 8, 10, 12]])"
      ]
     },
     "execution_count": 7,
     "metadata": {},
     "output_type": "execute_result"
    }
   ],
   "source": [
    "A"
   ]
  },
  {
   "cell_type": "markdown",
   "id": "610ddbea-37e9-4aa9-bb1b-6d694059d398",
   "metadata": {},
   "source": [
    "##### Element-Wise Operation"
   ]
  },
  {
   "cell_type": "code",
   "execution_count": 8,
   "id": "bc236365-b53c-4cc7-be3e-2aacf80c3324",
   "metadata": {},
   "outputs": [
    {
     "data": {
      "text/plain": [
       "array([[1.41421356, 2.        , 2.44948974],\n",
       "       [2.82842712, 3.16227766, 3.46410162]])"
      ]
     },
     "execution_count": 8,
     "metadata": {},
     "output_type": "execute_result"
    }
   ],
   "source": [
    "np.sqrt(A)"
   ]
  },
  {
   "cell_type": "code",
   "execution_count": 9,
   "id": "34a64634-5801-4f1c-ac60-46049c401078",
   "metadata": {},
   "outputs": [
    {
     "data": {
      "text/plain": [
       "array([[7.38905610e+00, 5.45981500e+01, 4.03428793e+02],\n",
       "       [2.98095799e+03, 2.20264658e+04, 1.62754791e+05]])"
      ]
     },
     "execution_count": 9,
     "metadata": {},
     "output_type": "execute_result"
    }
   ],
   "source": [
    "np.exp(A)"
   ]
  },
  {
   "cell_type": "markdown",
   "id": "5fba40b3-703a-4d22-8e26-8b011440f12e",
   "metadata": {},
   "source": [
    "##### Vectorized Function"
   ]
  },
  {
   "cell_type": "code",
   "execution_count": 18,
   "id": "10993169-7cc2-4a88-9d9f-360b0b55dde2",
   "metadata": {},
   "outputs": [],
   "source": [
    "def is_even(number):\n",
    "    return number % 2"
   ]
  },
  {
   "cell_type": "code",
   "execution_count": 19,
   "id": "b7b22554-2a83-454b-906c-4dac6499e30b",
   "metadata": {},
   "outputs": [
    {
     "data": {
      "text/plain": [
       "array([[0, 0, 0],\n",
       "       [0, 0, 0]])"
      ]
     },
     "execution_count": 19,
     "metadata": {},
     "output_type": "execute_result"
    }
   ],
   "source": [
    "is_even(A)"
   ]
  },
  {
   "cell_type": "code",
   "execution_count": 20,
   "id": "e8334ed3-3a48-479a-a140-b66367da8648",
   "metadata": {},
   "outputs": [
    {
     "data": {
      "text/plain": [
       "<numpy.vectorize at 0x7efe080fdd50>"
      ]
     },
     "execution_count": 20,
     "metadata": {},
     "output_type": "execute_result"
    }
   ],
   "source": [
    "np.vectorize(is_even)"
   ]
  },
  {
   "cell_type": "code",
   "execution_count": 21,
   "id": "2d9f64be-b0db-4a4c-b98b-d4a11afeb4a6",
   "metadata": {},
   "outputs": [
    {
     "data": {
      "text/plain": [
       "array([[0, 0, 0],\n",
       "       [0, 0, 0]])"
      ]
     },
     "execution_count": 21,
     "metadata": {},
     "output_type": "execute_result"
    }
   ],
   "source": [
    "is_even(A)"
   ]
  },
  {
   "cell_type": "markdown",
   "id": "85a5ae8c-3cc3-41e1-9ddb-b623fd9be85c",
   "metadata": {},
   "source": [
    "##### Aggregate Function"
   ]
  },
  {
   "cell_type": "code",
   "execution_count": 23,
   "id": "50045af5-20cf-4f07-8021-d94fb50cd638",
   "metadata": {},
   "outputs": [],
   "source": [
    "marks = np.array([[7, 8, 8],[7, 9, 9]])"
   ]
  },
  {
   "cell_type": "code",
   "execution_count": 24,
   "id": "6e4a1484-d643-4436-9970-fee905cb4aef",
   "metadata": {},
   "outputs": [
    {
     "data": {
      "text/plain": [
       "8.0"
      ]
     },
     "execution_count": 24,
     "metadata": {},
     "output_type": "execute_result"
    }
   ],
   "source": [
    "np.mean(marks)"
   ]
  },
  {
   "cell_type": "code",
   "execution_count": 25,
   "id": "f5321e9d-0e1e-4e71-97ae-65971b00b025",
   "metadata": {},
   "outputs": [
    {
     "data": {
      "text/plain": [
       "48"
      ]
     },
     "execution_count": 25,
     "metadata": {},
     "output_type": "execute_result"
    }
   ],
   "source": [
    "marks.sum()"
   ]
  },
  {
   "cell_type": "code",
   "execution_count": 26,
   "id": "92e3a8a0-82c2-4420-9466-3ad66d4907c6",
   "metadata": {},
   "outputs": [
    {
     "data": {
      "text/plain": [
       "array([ 7, 15, 23, 30, 39, 48])"
      ]
     },
     "execution_count": 26,
     "metadata": {},
     "output_type": "execute_result"
    }
   ],
   "source": [
    "marks.cumsum()"
   ]
  },
  {
   "cell_type": "markdown",
   "id": "4e23f003-77d7-4f2f-9ae3-8ce2239667c7",
   "metadata": {},
   "source": [
    "##### Aggregate Functions on Axis level"
   ]
  },
  {
   "cell_type": "code",
   "execution_count": 31,
   "id": "27938ff3-3103-4399-beb1-c262066e9c5d",
   "metadata": {},
   "outputs": [],
   "source": [
    "data = np.random.normal(size=(2, 3, 4))"
   ]
  },
  {
   "cell_type": "code",
   "execution_count": 32,
   "id": "806a2942-2200-4fc8-a882-9825f28ac652",
   "metadata": {},
   "outputs": [
    {
     "data": {
      "text/plain": [
       "array([[[ 0.17101882, -0.19790169,  1.37933813,  0.24478353],\n",
       "        [-1.11301238,  1.55884429,  2.35312106, -0.70996891],\n",
       "        [-0.15154099,  2.01965406, -0.31694224,  0.88878962]],\n",
       "\n",
       "       [[ 1.63455116, -0.15513044,  0.37517676,  1.14596202],\n",
       "        [-1.04479096, -1.08669579, -1.49152699,  0.28425264],\n",
       "        [-0.21708892,  0.99850607,  0.54452683,  0.73322042]]])"
      ]
     },
     "execution_count": 32,
     "metadata": {},
     "output_type": "execute_result"
    }
   ],
   "source": [
    "data"
   ]
  },
  {
   "cell_type": "code",
   "execution_count": 40,
   "id": "92807504-b25f-4138-83a2-d741b0fee275",
   "metadata": {},
   "outputs": [
    {
     "data": {
      "text/plain": [
       "array([[-1.09353455,  3.38059665,  3.41551695,  0.42360424],\n",
       "       [ 0.37267128, -0.24332016, -0.57182341,  2.16343509]])"
      ]
     },
     "execution_count": 40,
     "metadata": {},
     "output_type": "execute_result"
    }
   ],
   "source": [
    "data.sum(axis=(1,))"
   ]
  },
  {
   "cell_type": "markdown",
   "id": "62a3b90f-e958-4ff9-b4ff-c736a3015e5a",
   "metadata": {},
   "source": [
    "##### Boolean Arrays"
   ]
  },
  {
   "cell_type": "code",
   "execution_count": 45,
   "id": "fb3bd18c-4aef-44df-9a75-84af3ca8f240",
   "metadata": {},
   "outputs": [],
   "source": [
    "person1 = np.array([100, 56, 3])\n",
    "person2 = np.array([175, 48, 10])"
   ]
  },
  {
   "cell_type": "code",
   "execution_count": 46,
   "id": "a6517caf-be52-4f5f-afb2-96968bc2387e",
   "metadata": {},
   "outputs": [
    {
     "data": {
      "text/plain": [
       "array([False,  True, False])"
      ]
     },
     "execution_count": 46,
     "metadata": {},
     "output_type": "execute_result"
    }
   ],
   "source": [
    "person1 > person2"
   ]
  },
  {
   "cell_type": "code",
   "execution_count": 48,
   "id": "01e11d63-39fc-4427-9922-414c94f7dace",
   "metadata": {},
   "outputs": [
    {
     "data": {
      "text/plain": [
       "array([0, 1, 0])"
      ]
     },
     "execution_count": 48,
     "metadata": {},
     "output_type": "execute_result"
    }
   ],
   "source": [
    "1 * np.array(person1 > person2)"
   ]
  },
  {
   "cell_type": "markdown",
   "id": "9ede0c70-6337-4867-8b2d-91c83163d58e",
   "metadata": {},
   "source": [
    "##### Set Operations"
   ]
  },
  {
   "cell_type": "code",
   "execution_count": 51,
   "id": "79295267-c41d-4056-b8b4-49cb4b442bc4",
   "metadata": {},
   "outputs": [],
   "source": [
    "heights = np.unique([100, 102, 100, 201, 102])"
   ]
  },
  {
   "cell_type": "code",
   "execution_count": 52,
   "id": "31467808-7406-4a84-a708-e07d3ac3f018",
   "metadata": {},
   "outputs": [
    {
     "data": {
      "text/plain": [
       "array([100, 102, 201])"
      ]
     },
     "execution_count": 52,
     "metadata": {},
     "output_type": "execute_result"
    }
   ],
   "source": [
    "heights"
   ]
  },
  {
   "cell_type": "code",
   "execution_count": 53,
   "id": "b757097c-3ef8-49cb-84e2-eb5869be3bbc",
   "metadata": {},
   "outputs": [],
   "source": [
    "weights = np.array([50, 67, 98])"
   ]
  },
  {
   "cell_type": "code",
   "execution_count": 54,
   "id": "d7ecbdc0-309e-4dff-975f-bdd8c588294e",
   "metadata": {},
   "outputs": [],
   "source": [
    "heights_and_weights = np.union1d(heights, weights)"
   ]
  },
  {
   "cell_type": "code",
   "execution_count": 55,
   "id": "ebab8c34-33b6-47ca-ada0-dff8f8b20184",
   "metadata": {},
   "outputs": [
    {
     "data": {
      "text/plain": [
       "array([ 50,  67,  98, 100, 102, 201])"
      ]
     },
     "execution_count": 55,
     "metadata": {},
     "output_type": "execute_result"
    }
   ],
   "source": [
    "heights_and_weights"
   ]
  }
 ],
 "metadata": {
  "kernelspec": {
   "display_name": "Python 3 (ipykernel)",
   "language": "python",
   "name": "python3"
  },
  "language_info": {
   "codemirror_mode": {
    "name": "ipython",
    "version": 3
   },
   "file_extension": ".py",
   "mimetype": "text/x-python",
   "name": "python",
   "nbconvert_exporter": "python",
   "pygments_lexer": "ipython3",
   "version": "3.10.12"
  }
 },
 "nbformat": 4,
 "nbformat_minor": 5
}
