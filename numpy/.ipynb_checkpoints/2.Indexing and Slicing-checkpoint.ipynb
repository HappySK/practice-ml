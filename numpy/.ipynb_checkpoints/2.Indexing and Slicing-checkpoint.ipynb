{
 "cells": [
  {
   "cell_type": "markdown",
   "id": "3dc46a20-0ba9-446d-b6a9-9b77604b75c4",
   "metadata": {},
   "source": [
    "##### Indexing & Slicing"
   ]
  },
  {
   "cell_type": "code",
   "execution_count": 2,
   "id": "4246ff3c-a6af-4592-a8e5-b30ab8db8211",
   "metadata": {},
   "outputs": [],
   "source": [
    "import numpy as np"
   ]
  },
  {
   "cell_type": "code",
   "execution_count": 35,
   "id": "6ed151ad-5253-4d28-90b9-fdff2edb233f",
   "metadata": {},
   "outputs": [],
   "source": [
    "A = np.matrix([np.linspace(1, 5, 5), np.linspace(6, 10, 5), np.linspace(11, 15, 5)])"
   ]
  },
  {
   "cell_type": "code",
   "execution_count": 10,
   "id": "797d48f0-7331-4bd1-a31d-0bbd0cd8d939",
   "metadata": {},
   "outputs": [
    {
     "data": {
      "text/plain": [
       "matrix([[ 6.,  7.,  8.,  9., 10.]])"
      ]
     },
     "execution_count": 10,
     "metadata": {},
     "output_type": "execute_result"
    }
   ],
   "source": [
    "A[1]"
   ]
  },
  {
   "cell_type": "code",
   "execution_count": 13,
   "id": "28b79a3f-c672-4126-b5fa-275fbd5979f6",
   "metadata": {},
   "outputs": [
    {
     "data": {
      "text/plain": [
       "matrix([[1., 2., 3., 4., 5.]])"
      ]
     },
     "execution_count": 13,
     "metadata": {},
     "output_type": "execute_result"
    }
   ],
   "source": [
    "A[-3]"
   ]
  },
  {
   "cell_type": "code",
   "execution_count": 14,
   "id": "9554b57b-9f35-4e47-a19c-1139315570ff",
   "metadata": {},
   "outputs": [
    {
     "data": {
      "text/plain": [
       "matrix([[ 1.,  2.,  3.,  4.,  5.],\n",
       "        [ 6.,  7.,  8.,  9., 10.]])"
      ]
     },
     "execution_count": 14,
     "metadata": {},
     "output_type": "execute_result"
    }
   ],
   "source": [
    "A[0:2]"
   ]
  },
  {
   "cell_type": "code",
   "execution_count": 15,
   "id": "3f186b32-f2c6-41ae-ba96-f0703002dd43",
   "metadata": {},
   "outputs": [
    {
     "data": {
      "text/plain": [
       "matrix([[ 1.,  2.,  3.,  4.,  5.],\n",
       "        [ 6.,  7.,  8.,  9., 10.],\n",
       "        [11., 12., 13., 14., 15.]])"
      ]
     },
     "execution_count": 15,
     "metadata": {},
     "output_type": "execute_result"
    }
   ],
   "source": [
    "A[:]"
   ]
  },
  {
   "cell_type": "code",
   "execution_count": 16,
   "id": "bf4ee443-61e2-4939-83b7-eb7ca9017929",
   "metadata": {},
   "outputs": [
    {
     "data": {
      "text/plain": [
       "matrix([[ 1.,  2.,  3.,  4.,  5.],\n",
       "        [ 6.,  7.,  8.,  9., 10.]])"
      ]
     },
     "execution_count": 16,
     "metadata": {},
     "output_type": "execute_result"
    }
   ],
   "source": [
    "A[0:-1]"
   ]
  },
  {
   "cell_type": "code",
   "execution_count": 17,
   "id": "c474d2e2-65dc-42f9-9fdb-b5ab8b26a637",
   "metadata": {},
   "outputs": [
    {
     "data": {
      "text/plain": [
       "matrix([[ 1.,  2.,  3.,  4.,  5.],\n",
       "        [ 6.,  7.,  8.,  9., 10.]])"
      ]
     },
     "execution_count": 17,
     "metadata": {},
     "output_type": "execute_result"
    }
   ],
   "source": [
    "A[:-1]"
   ]
  },
  {
   "cell_type": "code",
   "execution_count": 18,
   "id": "f77dcf10-fc8a-48e1-958e-f4bfcba1b18d",
   "metadata": {},
   "outputs": [
    {
     "data": {
      "text/plain": [
       "matrix([[ 6.,  7.,  8.,  9., 10.],\n",
       "        [11., 12., 13., 14., 15.]])"
      ]
     },
     "execution_count": 18,
     "metadata": {},
     "output_type": "execute_result"
    }
   ],
   "source": [
    "A[1:]"
   ]
  },
  {
   "cell_type": "code",
   "execution_count": 19,
   "id": "5986e76d-52d5-42ce-bce0-408c9cd5c815",
   "metadata": {},
   "outputs": [
    {
     "data": {
      "text/plain": [
       "matrix([[ 1.,  2.,  3.,  4.,  5.],\n",
       "        [11., 12., 13., 14., 15.]])"
      ]
     },
     "execution_count": 19,
     "metadata": {},
     "output_type": "execute_result"
    }
   ],
   "source": [
    "A[0:4:2]"
   ]
  },
  {
   "cell_type": "code",
   "execution_count": 20,
   "id": "df9b00de-230f-44d0-aaa2-215d07f73bf4",
   "metadata": {},
   "outputs": [
    {
     "data": {
      "text/plain": [
       "matrix([[11., 12., 13., 14., 15.],\n",
       "        [ 6.,  7.,  8.,  9., 10.],\n",
       "        [ 1.,  2.,  3.,  4.,  5.]])"
      ]
     },
     "execution_count": 20,
     "metadata": {},
     "output_type": "execute_result"
    }
   ],
   "source": [
    "A[::-1]"
   ]
  },
  {
   "cell_type": "markdown",
   "id": "0ffdc436-6850-4cc8-9728-3fd21cc76007",
   "metadata": {},
   "source": [
    "##### Views"
   ]
  },
  {
   "cell_type": "code",
   "execution_count": 31,
   "id": "c0690b2c-f09e-40e4-9efd-11caf6b7d095",
   "metadata": {},
   "outputs": [],
   "source": [
    "B = A[:, :]"
   ]
  },
  {
   "cell_type": "code",
   "execution_count": 32,
   "id": "08d6f527-c747-45be-be12-879dd1a1183c",
   "metadata": {},
   "outputs": [
    {
     "data": {
      "text/plain": [
       "matrix([[ 1.,  2.,  3.,  4.,  5.],\n",
       "        [ 6.,  7.,  8.,  9., 10.],\n",
       "        [11., 12., 13., 14., 15.]])"
      ]
     },
     "execution_count": 32,
     "metadata": {},
     "output_type": "execute_result"
    }
   ],
   "source": [
    "B"
   ]
  },
  {
   "cell_type": "code",
   "execution_count": 33,
   "id": "b44eb2e8-10ab-4868-828c-50c55166dd0b",
   "metadata": {},
   "outputs": [],
   "source": [
    "B[:, :] = 0"
   ]
  },
  {
   "cell_type": "code",
   "execution_count": 34,
   "id": "1fec0206-bfbc-4655-b84c-1fd032c86f1e",
   "metadata": {},
   "outputs": [
    {
     "data": {
      "text/plain": [
       "matrix([[0., 0., 0., 0., 0.],\n",
       "        [0., 0., 0., 0., 0.],\n",
       "        [0., 0., 0., 0., 0.]])"
      ]
     },
     "execution_count": 34,
     "metadata": {},
     "output_type": "execute_result"
    }
   ],
   "source": [
    "A"
   ]
  },
  {
   "cell_type": "markdown",
   "id": "f8309e48-771c-4904-a7ba-f29c63883acc",
   "metadata": {},
   "source": [
    "###### Copy()"
   ]
  },
  {
   "cell_type": "code",
   "execution_count": 37,
   "id": "40cf97da-e3bb-497e-a25e-f0c5a090b19c",
   "metadata": {},
   "outputs": [],
   "source": [
    "B = A.copy()"
   ]
  },
  {
   "cell_type": "code",
   "execution_count": 40,
   "id": "9216fe30-a88a-42c4-99c1-c2b718582a3f",
   "metadata": {},
   "outputs": [],
   "source": [
    "B[:, :] = 1"
   ]
  },
  {
   "cell_type": "code",
   "execution_count": 42,
   "id": "113a90f2-d008-49d9-b40f-afb3cef7a92a",
   "metadata": {},
   "outputs": [
    {
     "data": {
      "text/plain": [
       "matrix([[1., 1., 1., 1., 1.],\n",
       "        [1., 1., 1., 1., 1.],\n",
       "        [1., 1., 1., 1., 1.]])"
      ]
     },
     "execution_count": 42,
     "metadata": {},
     "output_type": "execute_result"
    }
   ],
   "source": [
    "B"
   ]
  },
  {
   "cell_type": "markdown",
   "id": "264315d5-dbd1-4e9c-b1af-c64b4599c0fa",
   "metadata": {},
   "source": [
    "###### Fancy Indexing"
   ]
  },
  {
   "cell_type": "code",
   "execution_count": 47,
   "id": "1c87eaef-9dad-462d-8add-28cdaabdb188",
   "metadata": {},
   "outputs": [],
   "source": [
    "indexes = np.arange(0, 3, 1)"
   ]
  },
  {
   "cell_type": "code",
   "execution_count": 49,
   "id": "d19dc0af-c8b1-41be-b608-aee554a080a5",
   "metadata": {},
   "outputs": [
    {
     "data": {
      "text/plain": [
       "matrix([[ 1.,  7., 13.]])"
      ]
     },
     "execution_count": 49,
     "metadata": {},
     "output_type": "execute_result"
    }
   ],
   "source": [
    "A[indexes, indexes]"
   ]
  },
  {
   "cell_type": "markdown",
   "id": "99149876-2181-4aae-bc2e-cf390f02c821",
   "metadata": {},
   "source": [
    "###### Boolean Indexing"
   ]
  },
  {
   "cell_type": "code",
   "execution_count": 50,
   "id": "9d71f744-006e-457f-9e62-33bc2def449f",
   "metadata": {},
   "outputs": [
    {
     "data": {
      "text/plain": [
       "matrix([[False, False, False, False, False],\n",
       "        [ True,  True,  True,  True,  True],\n",
       "        [ True,  True,  True,  True,  True]])"
      ]
     },
     "execution_count": 50,
     "metadata": {},
     "output_type": "execute_result"
    }
   ],
   "source": [
    "A > 5"
   ]
  },
  {
   "cell_type": "code",
   "execution_count": 53,
   "id": "cc52d15a-b9a0-4dcd-8de5-fa8e3996bf01",
   "metadata": {},
   "outputs": [
    {
     "data": {
      "text/plain": [
       "matrix([[ 6.,  7.,  8.,  9., 10., 11., 12., 13., 14., 15.]])"
      ]
     },
     "execution_count": 53,
     "metadata": {},
     "output_type": "execute_result"
    }
   ],
   "source": [
    "A[A > 5]"
   ]
  },
  {
   "cell_type": "markdown",
   "id": "f67261aa-6034-4cb4-b829-20ffcadeb1c8",
   "metadata": {},
   "source": [
    "##### Reshaping & Resizing"
   ]
  },
  {
   "cell_type": "code",
   "execution_count": null,
   "id": "7edd3315-c4fb-4367-ae78-92be238018f3",
   "metadata": {},
   "outputs": [],
   "source": [
    "A.reshape()"
   ]
  }
 ],
 "metadata": {
  "kernelspec": {
   "display_name": "Python 3 (ipykernel)",
   "language": "python",
   "name": "python3"
  },
  "language_info": {
   "codemirror_mode": {
    "name": "ipython",
    "version": 3
   },
   "file_extension": ".py",
   "mimetype": "text/x-python",
   "name": "python",
   "nbconvert_exporter": "python",
   "pygments_lexer": "ipython3",
   "version": "3.10.12"
  }
 },
 "nbformat": 4,
 "nbformat_minor": 5
}
