{
 "cells": [
  {
   "cell_type": "markdown",
   "id": "3dc46a20-0ba9-446d-b6a9-9b77604b75c4",
   "metadata": {},
   "source": [
    "##### Indexing & Slicing"
   ]
  },
  {
   "cell_type": "code",
   "execution_count": 2,
   "id": "4246ff3c-a6af-4592-a8e5-b30ab8db8211",
   "metadata": {},
   "outputs": [],
   "source": [
    "import numpy as np"
   ]
  },
  {
   "cell_type": "code",
   "execution_count": 35,
   "id": "6ed151ad-5253-4d28-90b9-fdff2edb233f",
   "metadata": {},
   "outputs": [],
   "source": [
    "A = np.matrix([np.linspace(1, 5, 5), np.linspace(6, 10, 5), np.linspace(11, 15, 5)])"
   ]
  },
  {
   "cell_type": "code",
   "execution_count": 10,
   "id": "797d48f0-7331-4bd1-a31d-0bbd0cd8d939",
   "metadata": {},
   "outputs": [
    {
     "data": {
      "text/plain": [
       "matrix([[ 6.,  7.,  8.,  9., 10.]])"
      ]
     },
     "execution_count": 10,
     "metadata": {},
     "output_type": "execute_result"
    }
   ],
   "source": [
    "A[1]"
   ]
  },
  {
   "cell_type": "code",
   "execution_count": 13,
   "id": "28b79a3f-c672-4126-b5fa-275fbd5979f6",
   "metadata": {},
   "outputs": [
    {
     "data": {
      "text/plain": [
       "matrix([[1., 2., 3., 4., 5.]])"
      ]
     },
     "execution_count": 13,
     "metadata": {},
     "output_type": "execute_result"
    }
   ],
   "source": [
    "A[-3]"
   ]
  },
  {
   "cell_type": "code",
   "execution_count": 14,
   "id": "9554b57b-9f35-4e47-a19c-1139315570ff",
   "metadata": {},
   "outputs": [
    {
     "data": {
      "text/plain": [
       "matrix([[ 1.,  2.,  3.,  4.,  5.],\n",
       "        [ 6.,  7.,  8.,  9., 10.]])"
      ]
     },
     "execution_count": 14,
     "metadata": {},
     "output_type": "execute_result"
    }
   ],
   "source": [
    "A[0:2]"
   ]
  },
  {
   "cell_type": "code",
   "execution_count": 15,
   "id": "3f186b32-f2c6-41ae-ba96-f0703002dd43",
   "metadata": {},
   "outputs": [
    {
     "data": {
      "text/plain": [
       "matrix([[ 1.,  2.,  3.,  4.,  5.],\n",
       "        [ 6.,  7.,  8.,  9., 10.],\n",
       "        [11., 12., 13., 14., 15.]])"
      ]
     },
     "execution_count": 15,
     "metadata": {},
     "output_type": "execute_result"
    }
   ],
   "source": [
    "A[:]"
   ]
  },
  {
   "cell_type": "code",
   "execution_count": 16,
   "id": "bf4ee443-61e2-4939-83b7-eb7ca9017929",
   "metadata": {},
   "outputs": [
    {
     "data": {
      "text/plain": [
       "matrix([[ 1.,  2.,  3.,  4.,  5.],\n",
       "        [ 6.,  7.,  8.,  9., 10.]])"
      ]
     },
     "execution_count": 16,
     "metadata": {},
     "output_type": "execute_result"
    }
   ],
   "source": [
    "A[0:-1]"
   ]
  },
  {
   "cell_type": "code",
   "execution_count": 17,
   "id": "c474d2e2-65dc-42f9-9fdb-b5ab8b26a637",
   "metadata": {},
   "outputs": [
    {
     "data": {
      "text/plain": [
       "matrix([[ 1.,  2.,  3.,  4.,  5.],\n",
       "        [ 6.,  7.,  8.,  9., 10.]])"
      ]
     },
     "execution_count": 17,
     "metadata": {},
     "output_type": "execute_result"
    }
   ],
   "source": [
    "A[:-1]"
   ]
  },
  {
   "cell_type": "code",
   "execution_count": 18,
   "id": "f77dcf10-fc8a-48e1-958e-f4bfcba1b18d",
   "metadata": {},
   "outputs": [
    {
     "data": {
      "text/plain": [
       "matrix([[ 6.,  7.,  8.,  9., 10.],\n",
       "        [11., 12., 13., 14., 15.]])"
      ]
     },
     "execution_count": 18,
     "metadata": {},
     "output_type": "execute_result"
    }
   ],
   "source": [
    "A[1:]"
   ]
  },
  {
   "cell_type": "code",
   "execution_count": 19,
   "id": "5986e76d-52d5-42ce-bce0-408c9cd5c815",
   "metadata": {},
   "outputs": [
    {
     "data": {
      "text/plain": [
       "matrix([[ 1.,  2.,  3.,  4.,  5.],\n",
       "        [11., 12., 13., 14., 15.]])"
      ]
     },
     "execution_count": 19,
     "metadata": {},
     "output_type": "execute_result"
    }
   ],
   "source": [
    "A[0:4:2]"
   ]
  },
  {
   "cell_type": "code",
   "execution_count": 20,
   "id": "df9b00de-230f-44d0-aaa2-215d07f73bf4",
   "metadata": {},
   "outputs": [
    {
     "data": {
      "text/plain": [
       "matrix([[11., 12., 13., 14., 15.],\n",
       "        [ 6.,  7.,  8.,  9., 10.],\n",
       "        [ 1.,  2.,  3.,  4.,  5.]])"
      ]
     },
     "execution_count": 20,
     "metadata": {},
     "output_type": "execute_result"
    }
   ],
   "source": [
    "A[::-1]"
   ]
  },
  {
   "cell_type": "markdown",
   "id": "0ffdc436-6850-4cc8-9728-3fd21cc76007",
   "metadata": {},
   "source": [
    "##### Views"
   ]
  },
  {
   "cell_type": "code",
   "execution_count": 31,
   "id": "c0690b2c-f09e-40e4-9efd-11caf6b7d095",
   "metadata": {},
   "outputs": [],
   "source": [
    "B = A[:, :]"
   ]
  },
  {
   "cell_type": "code",
   "execution_count": 32,
   "id": "08d6f527-c747-45be-be12-879dd1a1183c",
   "metadata": {},
   "outputs": [
    {
     "data": {
      "text/plain": [
       "matrix([[ 1.,  2.,  3.,  4.,  5.],\n",
       "        [ 6.,  7.,  8.,  9., 10.],\n",
       "        [11., 12., 13., 14., 15.]])"
      ]
     },
     "execution_count": 32,
     "metadata": {},
     "output_type": "execute_result"
    }
   ],
   "source": [
    "B"
   ]
  },
  {
   "cell_type": "code",
   "execution_count": 33,
   "id": "b44eb2e8-10ab-4868-828c-50c55166dd0b",
   "metadata": {},
   "outputs": [],
   "source": [
    "B[:, :] = 0"
   ]
  },
  {
   "cell_type": "code",
   "execution_count": 34,
   "id": "1fec0206-bfbc-4655-b84c-1fd032c86f1e",
   "metadata": {},
   "outputs": [
    {
     "data": {
      "text/plain": [
       "matrix([[0., 0., 0., 0., 0.],\n",
       "        [0., 0., 0., 0., 0.],\n",
       "        [0., 0., 0., 0., 0.]])"
      ]
     },
     "execution_count": 34,
     "metadata": {},
     "output_type": "execute_result"
    }
   ],
   "source": [
    "A"
   ]
  },
  {
   "cell_type": "markdown",
   "id": "f8309e48-771c-4904-a7ba-f29c63883acc",
   "metadata": {},
   "source": [
    "###### Copy()"
   ]
  },
  {
   "cell_type": "code",
   "execution_count": 37,
   "id": "40cf97da-e3bb-497e-a25e-f0c5a090b19c",
   "metadata": {},
   "outputs": [],
   "source": [
    "B = A.copy()"
   ]
  },
  {
   "cell_type": "code",
   "execution_count": 40,
   "id": "9216fe30-a88a-42c4-99c1-c2b718582a3f",
   "metadata": {},
   "outputs": [],
   "source": [
    "B[:, :] = 1"
   ]
  },
  {
   "cell_type": "code",
   "execution_count": 42,
   "id": "113a90f2-d008-49d9-b40f-afb3cef7a92a",
   "metadata": {},
   "outputs": [
    {
     "data": {
      "text/plain": [
       "matrix([[1., 1., 1., 1., 1.],\n",
       "        [1., 1., 1., 1., 1.],\n",
       "        [1., 1., 1., 1., 1.]])"
      ]
     },
     "execution_count": 42,
     "metadata": {},
     "output_type": "execute_result"
    }
   ],
   "source": [
    "B"
   ]
  },
  {
   "cell_type": "markdown",
   "id": "264315d5-dbd1-4e9c-b1af-c64b4599c0fa",
   "metadata": {},
   "source": [
    "###### Fancy Indexing"
   ]
  },
  {
   "cell_type": "code",
   "execution_count": 47,
   "id": "1c87eaef-9dad-462d-8add-28cdaabdb188",
   "metadata": {},
   "outputs": [],
   "source": [
    "indexes = np.arange(0, 3, 1)"
   ]
  },
  {
   "cell_type": "code",
   "execution_count": 49,
   "id": "d19dc0af-c8b1-41be-b608-aee554a080a5",
   "metadata": {},
   "outputs": [
    {
     "data": {
      "text/plain": [
       "matrix([[ 1.,  7., 13.]])"
      ]
     },
     "execution_count": 49,
     "metadata": {},
     "output_type": "execute_result"
    }
   ],
   "source": [
    "A[indexes, indexes]"
   ]
  },
  {
   "cell_type": "markdown",
   "id": "99149876-2181-4aae-bc2e-cf390f02c821",
   "metadata": {},
   "source": [
    "###### Boolean Indexing"
   ]
  },
  {
   "cell_type": "code",
   "execution_count": 50,
   "id": "9d71f744-006e-457f-9e62-33bc2def449f",
   "metadata": {},
   "outputs": [
    {
     "data": {
      "text/plain": [
       "matrix([[False, False, False, False, False],\n",
       "        [ True,  True,  True,  True,  True],\n",
       "        [ True,  True,  True,  True,  True]])"
      ]
     },
     "execution_count": 50,
     "metadata": {},
     "output_type": "execute_result"
    }
   ],
   "source": [
    "A > 5"
   ]
  },
  {
   "cell_type": "code",
   "execution_count": 53,
   "id": "cc52d15a-b9a0-4dcd-8de5-fa8e3996bf01",
   "metadata": {},
   "outputs": [
    {
     "data": {
      "text/plain": [
       "matrix([[ 6.,  7.,  8.,  9., 10., 11., 12., 13., 14., 15.]])"
      ]
     },
     "execution_count": 53,
     "metadata": {},
     "output_type": "execute_result"
    }
   ],
   "source": [
    "A[A > 5]"
   ]
  },
  {
   "cell_type": "markdown",
   "id": "f67261aa-6034-4cb4-b829-20ffcadeb1c8",
   "metadata": {},
   "source": [
    "##### Reshaping & Resizing"
   ]
  },
  {
   "cell_type": "code",
   "execution_count": 54,
   "id": "7edd3315-c4fb-4367-ae78-92be238018f3",
   "metadata": {},
   "outputs": [
    {
     "data": {
      "text/plain": [
       "matrix([[ 1.,  2.,  3.],\n",
       "        [ 4.,  5.,  6.],\n",
       "        [ 7.,  8.,  9.],\n",
       "        [10., 11., 12.],\n",
       "        [13., 14., 15.]])"
      ]
     },
     "execution_count": 54,
     "metadata": {},
     "output_type": "execute_result"
    }
   ],
   "source": [
    "A.reshape(5,3)"
   ]
  },
  {
   "cell_type": "markdown",
   "id": "106ec1a1-f810-483f-9c29-c6386ec0e1d5",
   "metadata": {},
   "source": [
    "###### Flatten creates a new copy of the array"
   ]
  },
  {
   "cell_type": "code",
   "execution_count": 55,
   "id": "76675857-89bd-4253-9cf3-554605e96cf1",
   "metadata": {},
   "outputs": [
    {
     "data": {
      "text/plain": [
       "matrix([[ 1.,  2.,  3.,  4.,  5.,  6.,  7.,  8.,  9., 10., 11., 12., 13.,\n",
       "         14., 15.]])"
      ]
     },
     "execution_count": 55,
     "metadata": {},
     "output_type": "execute_result"
    }
   ],
   "source": [
    "A.flatten()"
   ]
  },
  {
   "cell_type": "markdown",
   "id": "a51df1d2-d3b7-4d66-9b09-16a56a79cbc9",
   "metadata": {},
   "source": [
    "###### Ravel creates a view or copy of the array"
   ]
  },
  {
   "cell_type": "code",
   "execution_count": 57,
   "id": "00a5cfc2-8126-4c2f-8594-c89ec6366828",
   "metadata": {},
   "outputs": [
    {
     "data": {
      "text/plain": [
       "matrix([[ 1.,  2.,  3.,  4.,  5.,  6.,  7.,  8.,  9., 10., 11., 12., 13.,\n",
       "         14., 15.]])"
      ]
     },
     "execution_count": 57,
     "metadata": {},
     "output_type": "execute_result"
    }
   ],
   "source": [
    "A.ravel()"
   ]
  },
  {
   "cell_type": "markdown",
   "id": "f788031b-0d0d-4953-b834-1f9d02c30247",
   "metadata": {},
   "source": [
    "###### Squeezing an array"
   ]
  },
  {
   "cell_type": "code",
   "execution_count": 63,
   "id": "38fbd17b-7520-4705-be4b-40cc46db26f3",
   "metadata": {},
   "outputs": [],
   "source": [
    "X = np.array([[[1, 2], [3, 4]]])"
   ]
  },
  {
   "cell_type": "code",
   "execution_count": 64,
   "id": "7e46ee51-1b31-49ed-95f3-277e27531094",
   "metadata": {},
   "outputs": [
    {
     "data": {
      "text/plain": [
       "array([[1, 2],\n",
       "       [3, 4]])"
      ]
     },
     "execution_count": 64,
     "metadata": {},
     "output_type": "execute_result"
    }
   ],
   "source": [
    "X.squeeze()"
   ]
  },
  {
   "cell_type": "markdown",
   "id": "3eb23b05-8af3-4410-aef6-7f7edac9f578",
   "metadata": {},
   "source": [
    "###### Expanding Dimensions"
   ]
  },
  {
   "cell_type": "code",
   "execution_count": 84,
   "id": "8ddbc918-f17d-470f-8a9a-fbebba5769b5",
   "metadata": {},
   "outputs": [],
   "source": [
    "Y = np.array([[1,2,3],[5, 6, 7]])"
   ]
  },
  {
   "cell_type": "code",
   "execution_count": 75,
   "id": "fefaad62-07c7-40c0-9196-67519fe44e56",
   "metadata": {},
   "outputs": [
    {
     "data": {
      "text/plain": [
       "array([[1, 2, 3],\n",
       "       [5, 6, 7]])"
      ]
     },
     "execution_count": 75,
     "metadata": {},
     "output_type": "execute_result"
    }
   ],
   "source": [
    "Y"
   ]
  },
  {
   "cell_type": "code",
   "execution_count": 78,
   "id": "f4c70db0-567e-4a32-99e2-9d25d0210e4d",
   "metadata": {},
   "outputs": [
    {
     "data": {
      "text/plain": [
       "array([[[1, 2, 3]],\n",
       "\n",
       "       [[5, 6, 7]]])"
      ]
     },
     "execution_count": 78,
     "metadata": {},
     "output_type": "execute_result"
    }
   ],
   "source": [
    "np.expand_dims(Y, 1)"
   ]
  },
  {
   "cell_type": "markdown",
   "id": "6fce98b1-2421-45d6-9237-56e6fe72a3af",
   "metadata": {},
   "source": [
    "###### Transpose"
   ]
  },
  {
   "cell_type": "code",
   "execution_count": 79,
   "id": "2447cf26-c396-4e9e-ae4c-a9193dea3735",
   "metadata": {},
   "outputs": [
    {
     "data": {
      "text/plain": [
       "array([[1, 5],\n",
       "       [2, 6],\n",
       "       [3, 7]])"
      ]
     },
     "execution_count": 79,
     "metadata": {},
     "output_type": "execute_result"
    }
   ],
   "source": [
    "Y.T"
   ]
  },
  {
   "cell_type": "code",
   "execution_count": 86,
   "id": "f9d1812a-4990-41f5-b3d2-4408d9d3917b",
   "metadata": {},
   "outputs": [
    {
     "data": {
      "text/plain": [
       "array([1, 2, 3, 5, 6, 7])"
      ]
     },
     "execution_count": 86,
     "metadata": {},
     "output_type": "execute_result"
    }
   ],
   "source": [
    "np.hstack(Y)"
   ]
  },
  {
   "cell_type": "code",
   "execution_count": 85,
   "id": "dad9370c-33e8-4790-8c2f-5815354c2ddf",
   "metadata": {},
   "outputs": [
    {
     "data": {
      "text/plain": [
       "array([[1, 2, 3],\n",
       "       [5, 6, 7]])"
      ]
     },
     "execution_count": 85,
     "metadata": {},
     "output_type": "execute_result"
    }
   ],
   "source": [
    "np.vstack(Y)"
   ]
  },
  {
   "cell_type": "code",
   "execution_count": 87,
   "id": "7c7cebee-7b32-48a6-b1e5-b8fa35a626c4",
   "metadata": {},
   "outputs": [
    {
     "data": {
      "text/plain": [
       "array([[[1, 5],\n",
       "        [2, 6],\n",
       "        [3, 7]]])"
      ]
     },
     "execution_count": 87,
     "metadata": {},
     "output_type": "execute_result"
    }
   ],
   "source": [
    "np.dstack(Y)"
   ]
  },
  {
   "cell_type": "code",
   "execution_count": 96,
   "id": "f29c7632-a17c-40fa-895d-aafbda16e62a",
   "metadata": {},
   "outputs": [],
   "source": [
    "B = np.array([[1, 2, 3, 4, 5],[20, 30, 40, 50, 60],[11, 12, 13, 14, 15]])"
   ]
  },
  {
   "cell_type": "code",
   "execution_count": 100,
   "id": "213e5c34-432d-4ab6-b11a-8f3663909a4f",
   "metadata": {},
   "outputs": [
    {
     "data": {
      "text/plain": [
       "matrix([[ 1.,  2.,  3.,  4.,  5.,  1.,  2.,  3.,  4.,  5.],\n",
       "        [ 6.,  7.,  8.,  9., 10., 20., 30., 40., 50., 60.],\n",
       "        [11., 12., 13., 14., 15., 11., 12., 13., 14., 15.]])"
      ]
     },
     "execution_count": 100,
     "metadata": {},
     "output_type": "execute_result"
    }
   ],
   "source": [
    "np.concatenate([A, B], axis=1)"
   ]
  }
 ],
 "metadata": {
  "kernelspec": {
   "display_name": "Python 3 (ipykernel)",
   "language": "python",
   "name": "python3"
  },
  "language_info": {
   "codemirror_mode": {
    "name": "ipython",
    "version": 3
   },
   "file_extension": ".py",
   "mimetype": "text/x-python",
   "name": "python",
   "nbconvert_exporter": "python",
   "pygments_lexer": "ipython3",
   "version": "3.10.12"
  }
 },
 "nbformat": 4,
 "nbformat_minor": 5
}
